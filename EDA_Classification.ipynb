{
 "cells": [
  {
   "cell_type": "markdown",
   "id": "aaca5ced",
   "metadata": {},
   "source": [
    "### Import Libraries"
   ]
  },
  {
   "cell_type": "code",
   "execution_count": 1,
   "id": "52e106ab",
   "metadata": {},
   "outputs": [],
   "source": [
    "import numpy as np\n",
    "import pandas as pd # data processing\n",
    "import matplotlib.pyplot as plt # data visualization\n",
    "import seaborn as sns # data visualization"
   ]
  },
  {
   "cell_type": "markdown",
   "id": "41f68142",
   "metadata": {},
   "source": [
    "### Load and Observe Dataset"
   ]
  },
  {
   "cell_type": "code",
   "execution_count": 2,
   "id": "d9f5d5d5",
   "metadata": {},
   "outputs": [
    {
     "name": "stdout",
     "output_type": "stream",
     "text": [
      "Dataset Shape: (70000, 13)\n"
     ]
    }
   ],
   "source": [
    "df = pd.read_csv('cardio_train.csv', sep = \";\")\n",
    "print(f'Dataset Shape: {df.shape}')"
   ]
  },
  {
   "cell_type": "code",
   "execution_count": 3,
   "id": "2fc8d24d",
   "metadata": {},
   "outputs": [
    {
     "data": {
      "text/html": [
       "<div>\n",
       "<style scoped>\n",
       "    .dataframe tbody tr th:only-of-type {\n",
       "        vertical-align: middle;\n",
       "    }\n",
       "\n",
       "    .dataframe tbody tr th {\n",
       "        vertical-align: top;\n",
       "    }\n",
       "\n",
       "    .dataframe thead th {\n",
       "        text-align: right;\n",
       "    }\n",
       "</style>\n",
       "<table border=\"1\" class=\"dataframe\">\n",
       "  <thead>\n",
       "    <tr style=\"text-align: right;\">\n",
       "      <th></th>\n",
       "      <th>id</th>\n",
       "      <th>age</th>\n",
       "      <th>gender</th>\n",
       "      <th>height</th>\n",
       "      <th>weight</th>\n",
       "      <th>ap_hi</th>\n",
       "      <th>ap_lo</th>\n",
       "      <th>cholesterol</th>\n",
       "      <th>gluc</th>\n",
       "      <th>smoke</th>\n",
       "      <th>alco</th>\n",
       "      <th>active</th>\n",
       "      <th>cardio</th>\n",
       "    </tr>\n",
       "  </thead>\n",
       "  <tbody>\n",
       "    <tr>\n",
       "      <th>0</th>\n",
       "      <td>0</td>\n",
       "      <td>18393</td>\n",
       "      <td>2</td>\n",
       "      <td>168</td>\n",
       "      <td>62.0</td>\n",
       "      <td>110</td>\n",
       "      <td>80</td>\n",
       "      <td>1</td>\n",
       "      <td>1</td>\n",
       "      <td>0</td>\n",
       "      <td>0</td>\n",
       "      <td>1</td>\n",
       "      <td>0</td>\n",
       "    </tr>\n",
       "    <tr>\n",
       "      <th>1</th>\n",
       "      <td>1</td>\n",
       "      <td>20228</td>\n",
       "      <td>1</td>\n",
       "      <td>156</td>\n",
       "      <td>85.0</td>\n",
       "      <td>140</td>\n",
       "      <td>90</td>\n",
       "      <td>3</td>\n",
       "      <td>1</td>\n",
       "      <td>0</td>\n",
       "      <td>0</td>\n",
       "      <td>1</td>\n",
       "      <td>1</td>\n",
       "    </tr>\n",
       "    <tr>\n",
       "      <th>2</th>\n",
       "      <td>2</td>\n",
       "      <td>18857</td>\n",
       "      <td>1</td>\n",
       "      <td>165</td>\n",
       "      <td>64.0</td>\n",
       "      <td>130</td>\n",
       "      <td>70</td>\n",
       "      <td>3</td>\n",
       "      <td>1</td>\n",
       "      <td>0</td>\n",
       "      <td>0</td>\n",
       "      <td>0</td>\n",
       "      <td>1</td>\n",
       "    </tr>\n",
       "    <tr>\n",
       "      <th>3</th>\n",
       "      <td>3</td>\n",
       "      <td>17623</td>\n",
       "      <td>2</td>\n",
       "      <td>169</td>\n",
       "      <td>82.0</td>\n",
       "      <td>150</td>\n",
       "      <td>100</td>\n",
       "      <td>1</td>\n",
       "      <td>1</td>\n",
       "      <td>0</td>\n",
       "      <td>0</td>\n",
       "      <td>1</td>\n",
       "      <td>1</td>\n",
       "    </tr>\n",
       "    <tr>\n",
       "      <th>4</th>\n",
       "      <td>4</td>\n",
       "      <td>17474</td>\n",
       "      <td>1</td>\n",
       "      <td>156</td>\n",
       "      <td>56.0</td>\n",
       "      <td>100</td>\n",
       "      <td>60</td>\n",
       "      <td>1</td>\n",
       "      <td>1</td>\n",
       "      <td>0</td>\n",
       "      <td>0</td>\n",
       "      <td>0</td>\n",
       "      <td>0</td>\n",
       "    </tr>\n",
       "  </tbody>\n",
       "</table>\n",
       "</div>"
      ],
      "text/plain": [
       "   id    age  gender  height  weight  ap_hi  ap_lo  cholesterol  gluc  smoke  \\\n",
       "0   0  18393       2     168    62.0    110     80            1     1      0   \n",
       "1   1  20228       1     156    85.0    140     90            3     1      0   \n",
       "2   2  18857       1     165    64.0    130     70            3     1      0   \n",
       "3   3  17623       2     169    82.0    150    100            1     1      0   \n",
       "4   4  17474       1     156    56.0    100     60            1     1      0   \n",
       "\n",
       "   alco  active  cardio  \n",
       "0     0       1       0  \n",
       "1     0       1       1  \n",
       "2     0       0       1  \n",
       "3     0       1       1  \n",
       "4     0       0       0  "
      ]
     },
     "execution_count": 3,
     "metadata": {},
     "output_type": "execute_result"
    }
   ],
   "source": [
    "df.head()"
   ]
  },
  {
   "cell_type": "code",
   "execution_count": 4,
   "id": "04a5b9a9",
   "metadata": {},
   "outputs": [
    {
     "name": "stdout",
     "output_type": "stream",
     "text": [
      "<class 'pandas.core.frame.DataFrame'>\n",
      "RangeIndex: 70000 entries, 0 to 69999\n",
      "Data columns (total 13 columns):\n",
      " #   Column       Non-Null Count  Dtype  \n",
      "---  ------       --------------  -----  \n",
      " 0   id           70000 non-null  int64  \n",
      " 1   age          70000 non-null  int64  \n",
      " 2   gender       70000 non-null  int64  \n",
      " 3   height       70000 non-null  int64  \n",
      " 4   weight       70000 non-null  float64\n",
      " 5   ap_hi        70000 non-null  int64  \n",
      " 6   ap_lo        70000 non-null  int64  \n",
      " 7   cholesterol  70000 non-null  int64  \n",
      " 8   gluc         70000 non-null  int64  \n",
      " 9   smoke        70000 non-null  int64  \n",
      " 10  alco         70000 non-null  int64  \n",
      " 11  active       70000 non-null  int64  \n",
      " 12  cardio       70000 non-null  int64  \n",
      "dtypes: float64(1), int64(12)\n",
      "memory usage: 6.9 MB\n"
     ]
    }
   ],
   "source": [
    "df.info()"
   ]
  },
  {
   "cell_type": "code",
   "execution_count": 5,
   "id": "290d97c9",
   "metadata": {},
   "outputs": [
    {
     "data": {
      "text/html": [
       "<div>\n",
       "<style scoped>\n",
       "    .dataframe tbody tr th:only-of-type {\n",
       "        vertical-align: middle;\n",
       "    }\n",
       "\n",
       "    .dataframe tbody tr th {\n",
       "        vertical-align: top;\n",
       "    }\n",
       "\n",
       "    .dataframe thead th {\n",
       "        text-align: right;\n",
       "    }\n",
       "</style>\n",
       "<table border=\"1\" class=\"dataframe\">\n",
       "  <thead>\n",
       "    <tr style=\"text-align: right;\">\n",
       "      <th></th>\n",
       "      <th>id</th>\n",
       "      <th>age</th>\n",
       "      <th>gender</th>\n",
       "      <th>height</th>\n",
       "      <th>weight</th>\n",
       "      <th>ap_hi</th>\n",
       "      <th>ap_lo</th>\n",
       "      <th>cholesterol</th>\n",
       "      <th>gluc</th>\n",
       "      <th>smoke</th>\n",
       "      <th>alco</th>\n",
       "      <th>active</th>\n",
       "      <th>cardio</th>\n",
       "    </tr>\n",
       "  </thead>\n",
       "  <tbody>\n",
       "    <tr>\n",
       "      <th>count</th>\n",
       "      <td>70000.00</td>\n",
       "      <td>70000.00</td>\n",
       "      <td>70000.00</td>\n",
       "      <td>70000.00</td>\n",
       "      <td>70000.00</td>\n",
       "      <td>70000.00</td>\n",
       "      <td>70000.00</td>\n",
       "      <td>70000.00</td>\n",
       "      <td>70000.00</td>\n",
       "      <td>70000.00</td>\n",
       "      <td>70000.00</td>\n",
       "      <td>70000.0</td>\n",
       "      <td>70000.0</td>\n",
       "    </tr>\n",
       "    <tr>\n",
       "      <th>mean</th>\n",
       "      <td>49972.42</td>\n",
       "      <td>19468.87</td>\n",
       "      <td>1.35</td>\n",
       "      <td>164.36</td>\n",
       "      <td>74.21</td>\n",
       "      <td>128.82</td>\n",
       "      <td>96.63</td>\n",
       "      <td>1.37</td>\n",
       "      <td>1.23</td>\n",
       "      <td>0.09</td>\n",
       "      <td>0.05</td>\n",
       "      <td>0.8</td>\n",
       "      <td>0.5</td>\n",
       "    </tr>\n",
       "    <tr>\n",
       "      <th>std</th>\n",
       "      <td>28851.30</td>\n",
       "      <td>2467.25</td>\n",
       "      <td>0.48</td>\n",
       "      <td>8.21</td>\n",
       "      <td>14.40</td>\n",
       "      <td>154.01</td>\n",
       "      <td>188.47</td>\n",
       "      <td>0.68</td>\n",
       "      <td>0.57</td>\n",
       "      <td>0.28</td>\n",
       "      <td>0.23</td>\n",
       "      <td>0.4</td>\n",
       "      <td>0.5</td>\n",
       "    </tr>\n",
       "    <tr>\n",
       "      <th>min</th>\n",
       "      <td>0.00</td>\n",
       "      <td>10798.00</td>\n",
       "      <td>1.00</td>\n",
       "      <td>55.00</td>\n",
       "      <td>10.00</td>\n",
       "      <td>-150.00</td>\n",
       "      <td>-70.00</td>\n",
       "      <td>1.00</td>\n",
       "      <td>1.00</td>\n",
       "      <td>0.00</td>\n",
       "      <td>0.00</td>\n",
       "      <td>0.0</td>\n",
       "      <td>0.0</td>\n",
       "    </tr>\n",
       "    <tr>\n",
       "      <th>25%</th>\n",
       "      <td>25006.75</td>\n",
       "      <td>17664.00</td>\n",
       "      <td>1.00</td>\n",
       "      <td>159.00</td>\n",
       "      <td>65.00</td>\n",
       "      <td>120.00</td>\n",
       "      <td>80.00</td>\n",
       "      <td>1.00</td>\n",
       "      <td>1.00</td>\n",
       "      <td>0.00</td>\n",
       "      <td>0.00</td>\n",
       "      <td>1.0</td>\n",
       "      <td>0.0</td>\n",
       "    </tr>\n",
       "    <tr>\n",
       "      <th>50%</th>\n",
       "      <td>50001.50</td>\n",
       "      <td>19703.00</td>\n",
       "      <td>1.00</td>\n",
       "      <td>165.00</td>\n",
       "      <td>72.00</td>\n",
       "      <td>120.00</td>\n",
       "      <td>80.00</td>\n",
       "      <td>1.00</td>\n",
       "      <td>1.00</td>\n",
       "      <td>0.00</td>\n",
       "      <td>0.00</td>\n",
       "      <td>1.0</td>\n",
       "      <td>0.0</td>\n",
       "    </tr>\n",
       "    <tr>\n",
       "      <th>75%</th>\n",
       "      <td>74889.25</td>\n",
       "      <td>21327.00</td>\n",
       "      <td>2.00</td>\n",
       "      <td>170.00</td>\n",
       "      <td>82.00</td>\n",
       "      <td>140.00</td>\n",
       "      <td>90.00</td>\n",
       "      <td>2.00</td>\n",
       "      <td>1.00</td>\n",
       "      <td>0.00</td>\n",
       "      <td>0.00</td>\n",
       "      <td>1.0</td>\n",
       "      <td>1.0</td>\n",
       "    </tr>\n",
       "    <tr>\n",
       "      <th>max</th>\n",
       "      <td>99999.00</td>\n",
       "      <td>23713.00</td>\n",
       "      <td>2.00</td>\n",
       "      <td>250.00</td>\n",
       "      <td>200.00</td>\n",
       "      <td>16020.00</td>\n",
       "      <td>11000.00</td>\n",
       "      <td>3.00</td>\n",
       "      <td>3.00</td>\n",
       "      <td>1.00</td>\n",
       "      <td>1.00</td>\n",
       "      <td>1.0</td>\n",
       "      <td>1.0</td>\n",
       "    </tr>\n",
       "  </tbody>\n",
       "</table>\n",
       "</div>"
      ],
      "text/plain": [
       "             id       age    gender    height    weight     ap_hi     ap_lo  \\\n",
       "count  70000.00  70000.00  70000.00  70000.00  70000.00  70000.00  70000.00   \n",
       "mean   49972.42  19468.87      1.35    164.36     74.21    128.82     96.63   \n",
       "std    28851.30   2467.25      0.48      8.21     14.40    154.01    188.47   \n",
       "min        0.00  10798.00      1.00     55.00     10.00   -150.00    -70.00   \n",
       "25%    25006.75  17664.00      1.00    159.00     65.00    120.00     80.00   \n",
       "50%    50001.50  19703.00      1.00    165.00     72.00    120.00     80.00   \n",
       "75%    74889.25  21327.00      2.00    170.00     82.00    140.00     90.00   \n",
       "max    99999.00  23713.00      2.00    250.00    200.00  16020.00  11000.00   \n",
       "\n",
       "       cholesterol      gluc     smoke      alco   active   cardio  \n",
       "count     70000.00  70000.00  70000.00  70000.00  70000.0  70000.0  \n",
       "mean          1.37      1.23      0.09      0.05      0.8      0.5  \n",
       "std           0.68      0.57      0.28      0.23      0.4      0.5  \n",
       "min           1.00      1.00      0.00      0.00      0.0      0.0  \n",
       "25%           1.00      1.00      0.00      0.00      1.0      0.0  \n",
       "50%           1.00      1.00      0.00      0.00      1.0      0.0  \n",
       "75%           2.00      1.00      0.00      0.00      1.0      1.0  \n",
       "max           3.00      3.00      1.00      1.00      1.0      1.0  "
      ]
     },
     "execution_count": 5,
     "metadata": {},
     "output_type": "execute_result"
    }
   ],
   "source": [
    "df.describe().round(2)"
   ]
  },
  {
   "cell_type": "markdown",
   "id": "bead6a03",
   "metadata": {},
   "source": [
    "### Data Transformation"
   ]
  },
  {
   "cell_type": "code",
   "execution_count": 6,
   "id": "c6185f21",
   "metadata": {},
   "outputs": [],
   "source": [
    "# age is given in days\n",
    "# transforming it into years would easier for our understanding\n",
    "df['age'] = df['age'] / 365"
   ]
  },
  {
   "cell_type": "markdown",
   "id": "7b733f27",
   "metadata": {},
   "source": [
    "### Data Preprocessing"
   ]
  },
  {
   "cell_type": "code",
   "execution_count": 7,
   "id": "b10e2dff",
   "metadata": {},
   "outputs": [],
   "source": [
    "# rename some of the column names to proper naming conventions\n",
    "df.rename(columns = {'ap_hi':'systolic','ap_lo':'diastolic','gluc':'glucose','alco':'alcohol_intake','active':'physical_activity','cardio':'target'}, inplace = True)"
   ]
  },
  {
   "cell_type": "code",
   "execution_count": 5,
   "id": "c751f80d",
   "metadata": {},
   "outputs": [],
   "source": [
    "# rename the columns\n",
    "df['cholesterol'].replace({1: 'Normal', 2: 'Above normal', 3: 'Well above normal'}, inplace = True)\n",
    "df['glucose'].replace({1: 'Normal', 2: 'Above normal', 3: 'Well above normal'}, inplace = True)"
   ]
  },
  {
   "cell_type": "code",
   "execution_count": 6,
   "id": "f82c278a",
   "metadata": {},
   "outputs": [
    {
     "data": {
      "text/plain": [
       "id                   0\n",
       "age                  0\n",
       "gender               0\n",
       "height               0\n",
       "weight               0\n",
       "systolic             0\n",
       "diastolic            0\n",
       "cholesterol          0\n",
       "glucose              0\n",
       "smoke                0\n",
       "alcohol_intake       0\n",
       "physical_activity    0\n",
       "target               0\n",
       "dtype: int64"
      ]
     },
     "execution_count": 6,
     "metadata": {},
     "output_type": "execute_result"
    }
   ],
   "source": [
    "# check for any missing values \n",
    "df.isna().sum()"
   ]
  },
  {
   "cell_type": "code",
   "execution_count": 8,
   "id": "2fb72159",
   "metadata": {},
   "outputs": [],
   "source": [
    "df.drop(['id'], axis = 1, inplace = True)"
   ]
  },
  {
   "cell_type": "code",
   "execution_count": 9,
   "id": "160a79b2",
   "metadata": {},
   "outputs": [
    {
     "data": {
      "text/plain": [
       "24"
      ]
     },
     "execution_count": 9,
     "metadata": {},
     "output_type": "execute_result"
    }
   ],
   "source": [
    "# check for any duplicated values\n",
    "df.duplicated().sum()"
   ]
  },
  {
   "cell_type": "code",
   "execution_count": 10,
   "id": "f49baf00",
   "metadata": {},
   "outputs": [],
   "source": [
    "# drop duplicated values\n",
    "df.drop_duplicates(inplace = True)"
   ]
  },
  {
   "cell_type": "code",
   "execution_count": 11,
   "id": "d3c9f885",
   "metadata": {},
   "outputs": [
    {
     "data": {
      "text/plain": [
       "(69976, 12)"
      ]
     },
     "execution_count": 11,
     "metadata": {},
     "output_type": "execute_result"
    }
   ],
   "source": [
    "df.shape"
   ]
  },
  {
   "cell_type": "code",
   "execution_count": 12,
   "id": "c0709439",
   "metadata": {},
   "outputs": [],
   "source": [
    "# From above, it can be seen that there are no missing values and 24 duplicate records have been removed"
   ]
  },
  {
   "cell_type": "markdown",
   "id": "0a97b411",
   "metadata": {},
   "source": [
    "### Exploratory Data Analysis"
   ]
  },
  {
   "cell_type": "code",
   "execution_count": 13,
   "id": "370ef2fe",
   "metadata": {},
   "outputs": [
    {
     "data": {
      "image/png": "[encoded data removed]",
      "text/plain": [
       "<Figure size 1500x1000 with 1 Axes>"
      ]
     },
     "metadata": {},
     "output_type": "display_data"
    },
    {
     "name": "stdout",
     "output_type": "stream",
     "text": [
      "age False\n",
      "height True\n",
      "weight True\n",
      "systolic True\n",
      "diastolic True\n"
     ]
    }
   ],
   "source": [
    "# check for any outliers for numeric variables\n",
    "def outlier_thresholds(df, col_name, q1 = 0.10, q3 = 0.90):\n",
    "    Q1 = df[col_name].quantile(q1)\n",
    "    Q3 = df[col_name].quantile(q3)\n",
    "    IQR = Q3 - Q1\n",
    "    up_limit = Q3 + 1.5 * IQR\n",
    "    low_limit = Q1 - 1.5 * IQR\n",
    "    return low_limit, up_limit\n",
    "\n",
    "def check_outlier(df, col_name, q1 = 0.10, q3 = 0.90):\n",
    "    low_limit, up_limit = outlier_thresholds(df, col_name, q1, q3)\n",
    "    if df[(df[col_name] > up_limit) | (df[col_name] < low_limit)].any(axis = None):\n",
    "        return True\n",
    "    else:\n",
    "        return False\n",
    "\n",
    "# checking outliers using boxplots\n",
    "fig, ax = plt.subplots(figsize = (15, 10))\n",
    "sns.boxplot(data = df[['age', 'height', 'weight', 'systolic', 'diastolic']], width = 0.5, ax = ax, fliersize = 3)\n",
    "plt.title(\"Visualization of Outliers\")\n",
    "plt.show()\n",
    "\n",
    "for col in df[['age', 'height', 'weight', 'systolic', 'diastolic']]:\n",
    "    print(col, check_outlier(df, col))"
   ]
  },
  {
   "cell_type": "code",
   "execution_count": 14,
   "id": "5afb96d4",
   "metadata": {},
   "outputs": [
    {
     "name": "stdout",
     "output_type": "stream",
     "text": [
      "age False\n",
      "height False\n",
      "weight False\n",
      "systolic False\n",
      "diastolic False\n"
     ]
    }
   ],
   "source": [
    "# replace outliers with upper and lower limit\n",
    "def replace_with_thresholds(df, col_name):\n",
    "    low_limit, up_limit = outlier_thresholds(df, col_name)\n",
    "    df.loc[(df[col_name] < low_limit), col_name] = low_limit\n",
    "    df.loc[(df[col_name] > up_limit), col_name] = up_limit\n",
    "\n",
    "for col in df[['age', 'height', 'weight', 'systolic', 'diastolic']]:\n",
    "    replace_with_thresholds(df, col)\n",
    "\n",
    "for col in df[['age', 'height', 'weight', 'systolic', 'diastolic']]:\n",
    "    print(col, check_outlier(df, col))"
   ]
  },
  {
   "cell_type": "code",
   "execution_count": 35,
   "id": "b5ca7b8e",
   "metadata": {},
   "outputs": [],
   "source": [
    "### Feature Engineering"
   ]
  },
  {
   "cell_type": "code",
   "execution_count": 15,
   "id": "e058b6a2",
   "metadata": {},
   "outputs": [],
   "source": [
    "# adding a new column 'BMI' to the dataframe\n",
    "df['BMI'] = (df['weight'] / (df['height'] ** 2) * 10000)\n",
    "df['BMI'] = df['BMI'].round(decimals = 1)"
   ]
  },
  {
   "cell_type": "code",
   "execution_count": 37,
   "id": "5a649bf9",
   "metadata": {},
   "outputs": [
    {
     "data": {
      "text/html": [
       "<div>\n",
       "<style scoped>\n",
       "    .dataframe tbody tr th:only-of-type {\n",
       "        vertical-align: middle;\n",
       "    }\n",
       "\n",
       "    .dataframe tbody tr th {\n",
       "        vertical-align: top;\n",
       "    }\n",
       "\n",
       "    .dataframe thead th {\n",
       "        text-align: right;\n",
       "    }\n",
       "</style>\n",
       "<table border=\"1\" class=\"dataframe\">\n",
       "  <thead>\n",
       "    <tr style=\"text-align: right;\">\n",
       "      <th></th>\n",
       "      <th>age</th>\n",
       "      <th>gender</th>\n",
       "      <th>height</th>\n",
       "      <th>weight</th>\n",
       "      <th>systolic</th>\n",
       "      <th>diastolic</th>\n",
       "      <th>cholesterol</th>\n",
       "      <th>glucose</th>\n",
       "      <th>smoke</th>\n",
       "      <th>alcohol_intake</th>\n",
       "      <th>physical_activity</th>\n",
       "      <th>target</th>\n",
       "      <th>BMI</th>\n",
       "    </tr>\n",
       "  </thead>\n",
       "  <tbody>\n",
       "    <tr>\n",
       "      <th>count</th>\n",
       "      <td>69976.00</td>\n",
       "      <td>69976.00</td>\n",
       "      <td>69976.00</td>\n",
       "      <td>69976.00</td>\n",
       "      <td>69976.00</td>\n",
       "      <td>69976.00</td>\n",
       "      <td>69976.00</td>\n",
       "      <td>69976.00</td>\n",
       "      <td>69976.00</td>\n",
       "      <td>69976.00</td>\n",
       "      <td>69976.0</td>\n",
       "      <td>69976.0</td>\n",
       "      <td>69976.0</td>\n",
       "    </tr>\n",
       "    <tr>\n",
       "      <th>mean</th>\n",
       "      <td>53.34</td>\n",
       "      <td>1.35</td>\n",
       "      <td>164.39</td>\n",
       "      <td>74.19</td>\n",
       "      <td>126.84</td>\n",
       "      <td>81.84</td>\n",
       "      <td>1.37</td>\n",
       "      <td>1.23</td>\n",
       "      <td>0.09</td>\n",
       "      <td>0.05</td>\n",
       "      <td>0.8</td>\n",
       "      <td>0.5</td>\n",
       "      <td>27.5</td>\n",
       "    </tr>\n",
       "    <tr>\n",
       "      <th>std</th>\n",
       "      <td>6.76</td>\n",
       "      <td>0.48</td>\n",
       "      <td>7.98</td>\n",
       "      <td>14.29</td>\n",
       "      <td>17.61</td>\n",
       "      <td>10.51</td>\n",
       "      <td>0.68</td>\n",
       "      <td>0.57</td>\n",
       "      <td>0.28</td>\n",
       "      <td>0.23</td>\n",
       "      <td>0.4</td>\n",
       "      <td>0.5</td>\n",
       "      <td>5.3</td>\n",
       "    </tr>\n",
       "    <tr>\n",
       "      <th>min</th>\n",
       "      <td>29.58</td>\n",
       "      <td>1.00</td>\n",
       "      <td>125.00</td>\n",
       "      <td>10.00</td>\n",
       "      <td>50.00</td>\n",
       "      <td>40.00</td>\n",
       "      <td>1.00</td>\n",
       "      <td>1.00</td>\n",
       "      <td>0.00</td>\n",
       "      <td>0.00</td>\n",
       "      <td>0.0</td>\n",
       "      <td>0.0</td>\n",
       "      <td>3.5</td>\n",
       "    </tr>\n",
       "    <tr>\n",
       "      <th>25%</th>\n",
       "      <td>48.39</td>\n",
       "      <td>1.00</td>\n",
       "      <td>159.00</td>\n",
       "      <td>65.00</td>\n",
       "      <td>120.00</td>\n",
       "      <td>80.00</td>\n",
       "      <td>1.00</td>\n",
       "      <td>1.00</td>\n",
       "      <td>0.00</td>\n",
       "      <td>0.00</td>\n",
       "      <td>1.0</td>\n",
       "      <td>0.0</td>\n",
       "      <td>23.9</td>\n",
       "    </tr>\n",
       "    <tr>\n",
       "      <th>50%</th>\n",
       "      <td>53.98</td>\n",
       "      <td>1.00</td>\n",
       "      <td>165.00</td>\n",
       "      <td>72.00</td>\n",
       "      <td>120.00</td>\n",
       "      <td>80.00</td>\n",
       "      <td>1.00</td>\n",
       "      <td>1.00</td>\n",
       "      <td>0.00</td>\n",
       "      <td>0.00</td>\n",
       "      <td>1.0</td>\n",
       "      <td>0.0</td>\n",
       "      <td>26.4</td>\n",
       "    </tr>\n",
       "    <tr>\n",
       "      <th>75%</th>\n",
       "      <td>58.43</td>\n",
       "      <td>2.00</td>\n",
       "      <td>170.00</td>\n",
       "      <td>82.00</td>\n",
       "      <td>140.00</td>\n",
       "      <td>90.00</td>\n",
       "      <td>2.00</td>\n",
       "      <td>1.00</td>\n",
       "      <td>0.00</td>\n",
       "      <td>0.00</td>\n",
       "      <td>1.0</td>\n",
       "      <td>1.0</td>\n",
       "      <td>30.2</td>\n",
       "    </tr>\n",
       "    <tr>\n",
       "      <th>max</th>\n",
       "      <td>64.97</td>\n",
       "      <td>2.00</td>\n",
       "      <td>205.00</td>\n",
       "      <td>145.50</td>\n",
       "      <td>210.00</td>\n",
       "      <td>120.00</td>\n",
       "      <td>3.00</td>\n",
       "      <td>3.00</td>\n",
       "      <td>1.00</td>\n",
       "      <td>1.00</td>\n",
       "      <td>1.0</td>\n",
       "      <td>1.0</td>\n",
       "      <td>93.1</td>\n",
       "    </tr>\n",
       "  </tbody>\n",
       "</table>\n",
       "</div>"
      ],
      "text/plain": [
       "            age    gender    height    weight  systolic  diastolic  \\\n",
       "count  69976.00  69976.00  69976.00  69976.00  69976.00   69976.00   \n",
       "mean      53.34      1.35    164.39     74.19    126.84      81.84   \n",
       "std        6.76      0.48      7.98     14.29     17.61      10.51   \n",
       "min       29.58      1.00    125.00     10.00     50.00      40.00   \n",
       "25%       48.39      1.00    159.00     65.00    120.00      80.00   \n",
       "50%       53.98      1.00    165.00     72.00    120.00      80.00   \n",
       "75%       58.43      2.00    170.00     82.00    140.00      90.00   \n",
       "max       64.97      2.00    205.00    145.50    210.00     120.00   \n",
       "\n",
       "       cholesterol   glucose     smoke  alcohol_intake  physical_activity  \\\n",
       "count     69976.00  69976.00  69976.00        69976.00            69976.0   \n",
       "mean          1.37      1.23      0.09            0.05                0.8   \n",
       "std           0.68      0.57      0.28            0.23                0.4   \n",
       "min           1.00      1.00      0.00            0.00                0.0   \n",
       "25%           1.00      1.00      0.00            0.00                1.0   \n",
       "50%           1.00      1.00      0.00            0.00                1.0   \n",
       "75%           2.00      1.00      0.00            0.00                1.0   \n",
       "max           3.00      3.00      1.00            1.00                1.0   \n",
       "\n",
       "        target      BMI  \n",
       "count  69976.0  69976.0  \n",
       "mean       0.5     27.5  \n",
       "std        0.5      5.3  \n",
       "min        0.0      3.5  \n",
       "25%        0.0     23.9  \n",
       "50%        0.0     26.4  \n",
       "75%        1.0     30.2  \n",
       "max        1.0     93.1  "
      ]
     },
     "execution_count": 37,
     "metadata": {},
     "output_type": "execute_result"
    }
   ],
   "source": [
    "df.describe().round(2)"
   ]
  },
  {
   "cell_type": "code",
   "execution_count": 38,
   "id": "d6c98342",
   "metadata": {},
   "outputs": [
    {
     "data": {
      "text/html": [
       "<div>\n",
       "<style scoped>\n",
       "    .dataframe tbody tr th:only-of-type {\n",
       "        vertical-align: middle;\n",
       "    }\n",
       "\n",
       "    .dataframe tbody tr th {\n",
       "        vertical-align: top;\n",
       "    }\n",
       "\n",
       "    .dataframe thead th {\n",
       "        text-align: right;\n",
       "    }\n",
       "</style>\n",
       "<table border=\"1\" class=\"dataframe\">\n",
       "  <thead>\n",
       "    <tr style=\"text-align: right;\">\n",
       "      <th></th>\n",
       "      <th>age</th>\n",
       "      <th>gender</th>\n",
       "      <th>height</th>\n",
       "      <th>weight</th>\n",
       "      <th>systolic</th>\n",
       "      <th>diastolic</th>\n",
       "      <th>cholesterol</th>\n",
       "      <th>glucose</th>\n",
       "      <th>smoke</th>\n",
       "      <th>alcohol_intake</th>\n",
       "      <th>physical_activity</th>\n",
       "      <th>target</th>\n",
       "      <th>BMI</th>\n",
       "    </tr>\n",
       "  </thead>\n",
       "  <tbody>\n",
       "    <tr>\n",
       "      <th>0</th>\n",
       "      <td>50.391781</td>\n",
       "      <td>2</td>\n",
       "      <td>168</td>\n",
       "      <td>62.0</td>\n",
       "      <td>110</td>\n",
       "      <td>80</td>\n",
       "      <td>1</td>\n",
       "      <td>1</td>\n",
       "      <td>0</td>\n",
       "      <td>0</td>\n",
       "      <td>1</td>\n",
       "      <td>0</td>\n",
       "      <td>22.0</td>\n",
       "    </tr>\n",
       "    <tr>\n",
       "      <th>1</th>\n",
       "      <td>55.419178</td>\n",
       "      <td>1</td>\n",
       "      <td>156</td>\n",
       "      <td>85.0</td>\n",
       "      <td>140</td>\n",
       "      <td>90</td>\n",
       "      <td>3</td>\n",
       "      <td>1</td>\n",
       "      <td>0</td>\n",
       "      <td>0</td>\n",
       "      <td>1</td>\n",
       "      <td>1</td>\n",
       "      <td>34.9</td>\n",
       "    </tr>\n",
       "    <tr>\n",
       "      <th>2</th>\n",
       "      <td>51.663014</td>\n",
       "      <td>1</td>\n",
       "      <td>165</td>\n",
       "      <td>64.0</td>\n",
       "      <td>130</td>\n",
       "      <td>70</td>\n",
       "      <td>3</td>\n",
       "      <td>1</td>\n",
       "      <td>0</td>\n",
       "      <td>0</td>\n",
       "      <td>0</td>\n",
       "      <td>1</td>\n",
       "      <td>23.5</td>\n",
       "    </tr>\n",
       "    <tr>\n",
       "      <th>3</th>\n",
       "      <td>48.282192</td>\n",
       "      <td>2</td>\n",
       "      <td>169</td>\n",
       "      <td>82.0</td>\n",
       "      <td>150</td>\n",
       "      <td>100</td>\n",
       "      <td>1</td>\n",
       "      <td>1</td>\n",
       "      <td>0</td>\n",
       "      <td>0</td>\n",
       "      <td>1</td>\n",
       "      <td>1</td>\n",
       "      <td>28.7</td>\n",
       "    </tr>\n",
       "    <tr>\n",
       "      <th>4</th>\n",
       "      <td>47.873973</td>\n",
       "      <td>1</td>\n",
       "      <td>156</td>\n",
       "      <td>56.0</td>\n",
       "      <td>100</td>\n",
       "      <td>60</td>\n",
       "      <td>1</td>\n",
       "      <td>1</td>\n",
       "      <td>0</td>\n",
       "      <td>0</td>\n",
       "      <td>0</td>\n",
       "      <td>0</td>\n",
       "      <td>23.0</td>\n",
       "    </tr>\n",
       "  </tbody>\n",
       "</table>\n",
       "</div>"
      ],
      "text/plain": [
       "         age  gender  height  weight  systolic  diastolic  cholesterol  \\\n",
       "0  50.391781       2     168    62.0       110         80            1   \n",
       "1  55.419178       1     156    85.0       140         90            3   \n",
       "2  51.663014       1     165    64.0       130         70            3   \n",
       "3  48.282192       2     169    82.0       150        100            1   \n",
       "4  47.873973       1     156    56.0       100         60            1   \n",
       "\n",
       "   glucose  smoke  alcohol_intake  physical_activity  target   BMI  \n",
       "0        1      0               0                  1       0  22.0  \n",
       "1        1      0               0                  1       1  34.9  \n",
       "2        1      0               0                  0       1  23.5  \n",
       "3        1      0               0                  1       1  28.7  \n",
       "4        1      0               0                  0       0  23.0  "
      ]
     },
     "execution_count": 38,
     "metadata": {},
     "output_type": "execute_result"
    }
   ],
   "source": [
    "df.head()"
   ]
  },
  {
   "cell_type": "code",
   "execution_count": 16,
   "id": "38a8cb4d",
   "metadata": {},
   "outputs": [],
   "source": [
    "df['gender'] = np.where(df['gender'] == 2, 1, 0)\n",
    "df['cholesterol'] = df['cholesterol'].map({1: 0, 2: 1, 3: 2})\n",
    "df['glucose'] = df['glucose'].map({1: 0, 2: 1, 3: 2})"
   ]
  },
  {
   "cell_type": "code",
   "execution_count": 40,
   "id": "4d12d556",
   "metadata": {},
   "outputs": [
    {
     "data": {
      "text/html": [
       "<div>\n",
       "<style scoped>\n",
       "    .dataframe tbody tr th:only-of-type {\n",
       "        vertical-align: middle;\n",
       "    }\n",
       "\n",
       "    .dataframe tbody tr th {\n",
       "        vertical-align: top;\n",
       "    }\n",
       "\n",
       "    .dataframe thead th {\n",
       "        text-align: right;\n",
       "    }\n",
       "</style>\n",
       "<table border=\"1\" class=\"dataframe\">\n",
       "  <thead>\n",
       "    <tr style=\"text-align: right;\">\n",
       "      <th></th>\n",
       "      <th>age</th>\n",
       "      <th>gender</th>\n",
       "      <th>height</th>\n",
       "      <th>weight</th>\n",
       "      <th>systolic</th>\n",
       "      <th>diastolic</th>\n",
       "      <th>cholesterol</th>\n",
       "      <th>glucose</th>\n",
       "      <th>smoke</th>\n",
       "      <th>alcohol_intake</th>\n",
       "      <th>physical_activity</th>\n",
       "      <th>target</th>\n",
       "      <th>BMI</th>\n",
       "    </tr>\n",
       "  </thead>\n",
       "  <tbody>\n",
       "    <tr>\n",
       "      <th>0</th>\n",
       "      <td>50.391781</td>\n",
       "      <td>1</td>\n",
       "      <td>168</td>\n",
       "      <td>62.0</td>\n",
       "      <td>110</td>\n",
       "      <td>80</td>\n",
       "      <td>0</td>\n",
       "      <td>0</td>\n",
       "      <td>0</td>\n",
       "      <td>0</td>\n",
       "      <td>1</td>\n",
       "      <td>0</td>\n",
       "      <td>22.0</td>\n",
       "    </tr>\n",
       "    <tr>\n",
       "      <th>1</th>\n",
       "      <td>55.419178</td>\n",
       "      <td>0</td>\n",
       "      <td>156</td>\n",
       "      <td>85.0</td>\n",
       "      <td>140</td>\n",
       "      <td>90</td>\n",
       "      <td>2</td>\n",
       "      <td>0</td>\n",
       "      <td>0</td>\n",
       "      <td>0</td>\n",
       "      <td>1</td>\n",
       "      <td>1</td>\n",
       "      <td>34.9</td>\n",
       "    </tr>\n",
       "    <tr>\n",
       "      <th>2</th>\n",
       "      <td>51.663014</td>\n",
       "      <td>0</td>\n",
       "      <td>165</td>\n",
       "      <td>64.0</td>\n",
       "      <td>130</td>\n",
       "      <td>70</td>\n",
       "      <td>2</td>\n",
       "      <td>0</td>\n",
       "      <td>0</td>\n",
       "      <td>0</td>\n",
       "      <td>0</td>\n",
       "      <td>1</td>\n",
       "      <td>23.5</td>\n",
       "    </tr>\n",
       "    <tr>\n",
       "      <th>3</th>\n",
       "      <td>48.282192</td>\n",
       "      <td>1</td>\n",
       "      <td>169</td>\n",
       "      <td>82.0</td>\n",
       "      <td>150</td>\n",
       "      <td>100</td>\n",
       "      <td>0</td>\n",
       "      <td>0</td>\n",
       "      <td>0</td>\n",
       "      <td>0</td>\n",
       "      <td>1</td>\n",
       "      <td>1</td>\n",
       "      <td>28.7</td>\n",
       "    </tr>\n",
       "    <tr>\n",
       "      <th>4</th>\n",
       "      <td>47.873973</td>\n",
       "      <td>0</td>\n",
       "      <td>156</td>\n",
       "      <td>56.0</td>\n",
       "      <td>100</td>\n",
       "      <td>60</td>\n",
       "      <td>0</td>\n",
       "      <td>0</td>\n",
       "      <td>0</td>\n",
       "      <td>0</td>\n",
       "      <td>0</td>\n",
       "      <td>0</td>\n",
       "      <td>23.0</td>\n",
       "    </tr>\n",
       "  </tbody>\n",
       "</table>\n",
       "</div>"
      ],
      "text/plain": [
       "         age  gender  height  weight  systolic  diastolic  cholesterol  \\\n",
       "0  50.391781       1     168    62.0       110         80            0   \n",
       "1  55.419178       0     156    85.0       140         90            2   \n",
       "2  51.663014       0     165    64.0       130         70            2   \n",
       "3  48.282192       1     169    82.0       150        100            0   \n",
       "4  47.873973       0     156    56.0       100         60            0   \n",
       "\n",
       "   glucose  smoke  alcohol_intake  physical_activity  target   BMI  \n",
       "0        0      0               0                  1       0  22.0  \n",
       "1        0      0               0                  1       1  34.9  \n",
       "2        0      0               0                  0       1  23.5  \n",
       "3        0      0               0                  1       1  28.7  \n",
       "4        0      0               0                  0       0  23.0  "
      ]
     },
     "execution_count": 40,
     "metadata": {},
     "output_type": "execute_result"
    }
   ],
   "source": [
    "df.head()"
   ]
  },
  {
   "cell_type": "markdown",
   "id": "75b9039c",
   "metadata": {},
   "source": [
    "### Class Distribution"
   ]
  },
  {
   "cell_type": "code",
   "execution_count": 18,
   "id": "48d5f4e5",
   "metadata": {},
   "outputs": [
    {
     "data": {
      "image/png": "[encoded data removed]",
      "text/plain": [
       "<Figure size 432x288 with 1 Axes>"
      ]
     },
     "metadata": {},
     "output_type": "display_data"
    }
   ],
   "source": [
    "df['target'].value_counts().plot(kind = \"pie\", autopct = \"%.2f\")\n",
    "plt.show()"
   ]
  },
  {
   "cell_type": "code",
   "execution_count": null,
   "id": "946d42d7",
   "metadata": {},
   "outputs": [],
   "source": [
    "# as displayed above, the target variable is quite balanced, which will be easier to compare the groups and identify differences between them"
   ]
  },
  {
   "cell_type": "code",
   "execution_count": 75,
   "id": "6c570175",
   "metadata": {},
   "outputs": [
    {
     "name": "stderr",
     "output_type": "stream",
     "text": [
      "/var/folders/d9/gy217l6d6rdc_rrk4q6qtc880000gn/T/ipykernel_71267/3441042663.py:2: UserWarning: \n",
      "\n",
      "`distplot` is a deprecated function and will be removed in seaborn v0.14.0.\n",
      "\n",
      "Please adapt your code to use either `displot` (a figure-level function with\n",
      "similar flexibility) or `histplot` (an axes-level function for histograms).\n",
      "\n",
      "For a guide to updating your code to use the new functions, please see\n",
      "https://gist.github.com/mwaskom/de44147ed2974457ad6372750bbe5751\n",
      "\n",
      "  sns.distplot(df['age'][df['target'] == 0], ax = a, color = 'green')\n",
      "/var/folders/d9/gy217l6d6rdc_rrk4q6qtc880000gn/T/ipykernel_71267/3441042663.py:3: UserWarning: \n",
      "\n",
      "`distplot` is a deprecated function and will be removed in seaborn v0.14.0.\n",
      "\n",
      "Please adapt your code to use either `displot` (a figure-level function with\n",
      "similar flexibility) or `histplot` (an axes-level function for histograms).\n",
      "\n",
      "For a guide to updating your code to use the new functions, please see\n",
      "https://gist.github.com/mwaskom/de44147ed2974457ad6372750bbe5751\n",
      "\n",
      "  sns.distplot(df['age'][df['target'] == 1 ], ax = a, color = 'orange')\n"
     ]
    },
    {
     "data": {
      "image/png": "[encoded data removed]",
      "text/plain": [
       "<Figure size 432x288 with 1 Axes>"
      ]
     },
     "metadata": {
      "needs_background": "light"
     },
     "output_type": "display_data"
    }
   ],
   "source": [
    "fig, a = plt.subplots(1,1)\n",
    "sns.distplot(df['age'][df['target'] == 0], ax = a, color = 'green')\n",
    "sns.distplot(df['age'][df['target'] == 1 ], ax = a, color = 'orange')\n",
    "a.set_title('Age Distribution')\n",
    "plt.show()"
   ]
  },
  {
   "cell_type": "code",
   "execution_count": 31,
   "id": "b384f3c7",
   "metadata": {},
   "outputs": [],
   "source": [
    "# people above the age of 54 are more prone to have heart disease\n",
    "# as people get older, the risk of developing heart disease increases"
   ]
  },
  {
   "cell_type": "code",
   "execution_count": 32,
   "id": "8027dfa3",
   "metadata": {},
   "outputs": [
    {
     "name": "stderr",
     "output_type": "stream",
     "text": [
      "/Users/damiafatihah/opt/anaconda3/lib/python3.9/site-packages/seaborn/distributions.py:2619: FutureWarning: `distplot` is a deprecated function and will be removed in a future version. Please adapt your code to use either `displot` (a figure-level function with similar flexibility) or `histplot` (an axes-level function for histograms).\n",
      "  warnings.warn(msg, FutureWarning)\n",
      "/Users/damiafatihah/opt/anaconda3/lib/python3.9/site-packages/seaborn/distributions.py:2619: FutureWarning: `distplot` is a deprecated function and will be removed in a future version. Please adapt your code to use either `displot` (a figure-level function with similar flexibility) or `histplot` (an axes-level function for histograms).\n",
      "  warnings.warn(msg, FutureWarning)\n"
     ]
    },
    {
     "data": {
      "image/png": "[encoded data removed]",
      "text/plain": [
       "<Figure size 432x288 with 1 Axes>"
      ]
     },
     "metadata": {
      "needs_background": "light"
     },
     "output_type": "display_data"
    }
   ],
   "source": [
    "fig, a = plt.subplots(1,1)\n",
    "sns.distplot(df['age'][(df['gender'] == 1) & (df['target'] == 1)], ax = a, color = 'blue')\n",
    "sns.distplot(df['age'][(df['gender'] == 2) & (df['target'] == 1)], ax = a, color = 'crimson')\n",
    "a.set_title('Age Distribution by Gender amongst Individuals with Heart Disease')\n",
    "plt.show()"
   ]
  },
  {
   "cell_type": "code",
   "execution_count": 33,
   "id": "a02a6fd6",
   "metadata": {},
   "outputs": [],
   "source": [
    "# males below the age of 50 have higher tendency to have heart disease compared to female but there is not much difference"
   ]
  },
  {
   "cell_type": "code",
   "execution_count": 19,
   "id": "7cef87e9",
   "metadata": {},
   "outputs": [
    {
     "data": {
      "text/plain": [
       "Text(0.5, 1.0, 'BMI State Distribution')"
      ]
     },
     "execution_count": 19,
     "metadata": {},
     "output_type": "execute_result"
    },
    {
     "data": {
      "image/png": "[encoded data removed]",
      "text/plain": [
       "<Figure size 640x480 with 1 Axes>"
      ]
     },
     "metadata": {},
     "output_type": "display_data"
    }
   ],
   "source": [
    "# categorise normal & abnormal\n",
    "def bmi_category(bmi):\n",
    "    if bmi < 18.5:\n",
    "        return \"Underweight\"\n",
    "    elif 18.5 <= bmi < 25:\n",
    "        return \"Normal\"\n",
    "    elif 25 <= bmi < 30:\n",
    "        return \"Overweight\"\n",
    "    else:\n",
    "        return \"Obese\"\n",
    "\n",
    "df[\"BMI_State\"] = df[\"BMI\"].apply(lambda x: bmi_category(x))\n",
    "df['BMI_State'] = pd.Categorical(df['BMI_State'], categories = ['Underweight', 'Normal', 'Overweight', 'Obese'])\n",
    "\n",
    "sns.histplot(x = 'BMI_State', hue = 'target', data = df, palette = ['gold', 'crimson'], kde = True)\n",
    "plt.legend(['Disease present', 'No disease'])\n",
    "plt.title('BMI State Distribution')"
   ]
  },
  {
   "cell_type": "code",
   "execution_count": null,
   "id": "69aed105",
   "metadata": {},
   "outputs": [],
   "source": [
    "# people with bmi less than 18.5 or more than 25 are more likely to have heart disease"
   ]
  },
  {
   "cell_type": "code",
   "execution_count": 16,
   "id": "a6efca9c",
   "metadata": {},
   "outputs": [
    {
     "data": {
      "image/png": "[encoded data removed]",
      "text/plain": [
       "<Figure size 640x480 with 2 Axes>"
      ]
     },
     "metadata": {},
     "output_type": "display_data"
    }
   ],
   "source": [
    "# calculate the proportion of individuals with heart disease in each category of cholesterol rank\n",
    "tmp = df.groupby('cholesterol')['target'].mean()\n",
    "\n",
    "# create a bar chart to show the number of individuals in each category of cholesterol rank\n",
    "ax = sns.countplot(x = 'cholesterol', data = df, order = ['Normal', 'Above normal', 'Well above normal'], palette = 'Set3')\n",
    "\n",
    "# add a line chart to show the proportion of individuals with heart disease in each category of cholesterol rank\n",
    "sns.pointplot(x = tmp.index, y = tmp.values, order = ['Normal', 'Above normal', 'Well above normal'], ax = ax.twinx())\n",
    "\n",
    "# add text labels to show the percentage of individuals in each category of cholesterol rank\n",
    "for i in ax.patches:\n",
    "    height = i.get_height()\n",
    "    ax.annotate('{:.2f}%'.format(height / len(df['cholesterol']) * 100), xy = (i.get_x() + i.get_width() / 2, height),\n",
    "                xytext = (0, 1), textcoords = 'offset points', ha = 'center', va = 'bottom')\n",
    "    \n",
    "# add chart titles and labels\n",
    "ax.set_title('Average Occurence of Heart Disease vs Cholesterol Rank')\n",
    "ax.set_xlabel('Cholesterol Rank')\n",
    "ax.set_ylabel('Number of Individuals')\n",
    "\n",
    "plt.show()"
   ]
  },
  {
   "cell_type": "code",
   "execution_count": 37,
   "id": "6698f7e4",
   "metadata": {},
   "outputs": [],
   "source": [
    "# it can be said that the chances of having heart disease increases as the cholesterol rank increases"
   ]
  },
  {
   "cell_type": "code",
   "execution_count": 95,
   "id": "1d0fe936",
   "metadata": {},
   "outputs": [
    {
     "data": {
      "image/png": "[encoded data removed]",
      "text/plain": [
       "<Figure size 432x288 with 2 Axes>"
      ]
     },
     "metadata": {
      "needs_background": "light"
     },
     "output_type": "display_data"
    }
   ],
   "source": [
    "# calculate the proportion of individuals with cardiovascular disease in each category of glucose rank\n",
    "tmp = df.groupby('glucose')['target'].mean()\n",
    "\n",
    "# create a bar chart to show the number of individuals in each category of glucose rank\n",
    "ax = sns.countplot(x = 'glucose', data = df, order = ['Normal', 'Above normal', 'Well above normal'], palette = 'Set1')\n",
    "\n",
    "# add a line chart to show the proportion of individuals with cardiovascular disease in each category of glucose rank\n",
    "sns.pointplot(x = tmp.index, y = tmp.values, order = ['Normal', 'Above normal', 'Well above normal'], ax = ax.twinx(), color = 'orange')\n",
    "\n",
    "# add text labels to show the percentage of individuals in each category of glucose rank\n",
    "for i in ax.patches:\n",
    "    height = i.get_height()\n",
    "    ax.annotate('{:.2f}%'.format(height / len(df['glucose']) * 100), xy = (i.get_x() + i.get_width() / 2, height),\n",
    "                xytext = (0, 1), textcoords = 'offset points', ha = 'center', va = 'bottom')\n",
    "\n",
    "# add chart titles and labels\n",
    "ax.set_title('Average Occurence of Having Heart Disease vs Glucose Rank')\n",
    "ax.set_xlabel('Glucose Rank')\n",
    "ax.set_ylabel('Number of Individuals')\n",
    "\n",
    "plt.show()"
   ]
  },
  {
   "cell_type": "code",
   "execution_count": 39,
   "id": "d1f9704e",
   "metadata": {},
   "outputs": [],
   "source": [
    "# it can be said the likelihood of having heart disease increase as the glucose rank increases"
   ]
  },
  {
   "cell_type": "code",
   "execution_count": 23,
   "id": "9b0618d6",
   "metadata": {},
   "outputs": [],
   "source": [
    "#function to categorise blood pressure\n",
    "def bp_categories(df):\n",
    "    if df['systolic'] > 180 or df['diastolic'] > 120:\n",
    "        return 'Hypertensive Crisis'\n",
    "    elif (140 <= df['systolic'] <= 180) or (90 <= df['diastolic'] <= 120):\n",
    "        return 'High Blood Pressure (Stage 2)'\n",
    "    elif (130 <= df['systolic'] < 140) or (80 <= df['diastolic'] < 90) :\n",
    "        return 'High Blood Pressure (Stage 1)'\n",
    "    elif (120 <= df['systolic'] < 130) and df['diastolic'] < 80:\n",
    "        return 'Elevated'\n",
    "    else:\n",
    "        return 'Normal'"
   ]
  },
  {
   "cell_type": "code",
   "execution_count": 24,
   "id": "10287cf4",
   "metadata": {},
   "outputs": [],
   "source": [
    "df['BP_category'] = df.apply(bp_categories, axis = 1)"
   ]
  },
  {
   "cell_type": "code",
   "execution_count": 42,
   "id": "8d3005b0",
   "metadata": {},
   "outputs": [
    {
     "data": {
      "image/png": "[encoded data removed]",
      "text/plain": [
       "<Figure size 1080x1080 with 1 Axes>"
      ]
     },
     "metadata": {
      "needs_background": "light"
     },
     "output_type": "display_data"
    }
   ],
   "source": [
    "plt.figure(figsize = (15,15))\n",
    "sns.countplot(x = 'BP_category', hue = 'target', data = df, order = [\"Normal\", \"Elevated\", \"High Blood Pressure (Stage 1)\", \"High Blood Pressure (Stage 2)\", \"Hypertensive Crisis\"], palette = ['#7B68EE', '#FFD700'])\n",
    "plt.title('Blood Pressure Categories and Presence of Heart Disease')\n",
    "plt.xlabel('Blood Pressure Category')\n",
    "plt.legend( ['No disease', 'Disease present'])\n",
    "plt.ylabel('Number of Individuals')\n",
    "plt.show()"
   ]
  },
  {
   "cell_type": "code",
   "execution_count": 43,
   "id": "cfe181cf",
   "metadata": {},
   "outputs": [],
   "source": [
    "# Groups that have a higher prevalence of heart disease have blood pressure that could be classified as High Blood Pressure (Stage 2) or Hypertensive Crisis.\n",
    "\n",
    "# Normal, Elevated, and High Blood Pressure (Stage 1) have a higher prevalence of patients without heart disease, though it is still present."
   ]
  },
  {
   "cell_type": "code",
   "execution_count": 64,
   "id": "f6dd8d95",
   "metadata": {},
   "outputs": [
    {
     "data": {
      "image/png": "[encoded data removed]",
      "text/plain": [
       "<Figure size 864x288 with 3 Axes>"
      ]
     },
     "metadata": {
      "needs_background": "light"
     },
     "output_type": "display_data"
    }
   ],
   "source": [
    "# Create a 1x3 grid of subplots\n",
    "fig, ax = plt.subplots(1, 3, figsize = (12, 4))\n",
    "\n",
    "# Plot countplot for smoke in the first subplot\n",
    "sns.countplot(x = 'smoke', data = df, hue = 'target', palette = 'Set2', ax = ax[0])\n",
    "ax[0].legend(['No disease', 'Disease present'])\n",
    "ax[0].set_title('Smoke')\n",
    "\n",
    "# Plot countplot for alcohol in the third subplot\n",
    "sns.countplot(x = 'alcohol_intake', data = df, hue = 'target', palette = 'Set2', ax = ax[1])\n",
    "ax[1].legend(['No disease', 'Disease present'])\n",
    "ax[1].set_title('Alcohol')\n",
    "\n",
    "# Plot countplot for physical activity in the second subplot\n",
    "sns.countplot(x = 'physical_activity', data = df, hue = 'target', palette = 'Set2', ax = ax[2])\n",
    "ax[2].legend(['No disease', 'Disease present'])\n",
    "ax[2].set_title('Physical Activity')\n",
    "\n",
    "# Display the figure\n",
    "plt.show()"
   ]
  },
  {
   "cell_type": "code",
   "execution_count": 26,
   "id": "264293ac",
   "metadata": {},
   "outputs": [
    {
     "name": "stdout",
     "output_type": "stream",
     "text": [
      "Shapiro-Wilk Test\n",
      "test statistic: 0.9661\n",
      "p-value: 0.0\n"
     ]
    },
    {
     "data": {
      "image/png": "[encoded data removed]",
      "text/plain": [
       "<Figure size 432x288 with 1 Axes>"
      ]
     },
     "metadata": {
      "needs_background": "light"
     },
     "output_type": "display_data"
    }
   ],
   "source": [
    "import scipy.stats as stats\n",
    "\n",
    "# perform Shapiro-Wilk test\n",
    "statistic, p_value = stats.shapiro(df[\"age\"])\n",
    "\n",
    "# print result\n",
    "print(\"Shapiro-Wilk Test\")\n",
    "print(f\"test statistic: {statistic:.4f}\")\n",
    "print(f\"p-value: {p_value:}\")\n",
    "    \n",
    "# plot histogram\n",
    "plt.hist(df['age'], bins=10, edgecolor='black')\n",
    "\n",
    "plt.xlabel('Age')\n",
    "plt.ylabel('Frequency')\n",
    "plt.title('Histogram of Age')\n",
    "plt.show()"
   ]
  },
  {
   "cell_type": "code",
   "execution_count": 28,
   "id": "82426930",
   "metadata": {},
   "outputs": [
    {
     "name": "stdout",
     "output_type": "stream",
     "text": [
      "MannwhitneyuResult(statistic=777787070.0, pvalue=0.0)\n"
     ]
    }
   ],
   "source": [
    "from scipy.stats import mannwhitneyu\n",
    "\n",
    "age_with_disease = df[df['target'] == 1]['age']\n",
    "age_without_disease = df[df['target'] == 0]['age']\n",
    "\n",
    "# perform the Mann-Whitney U test\n",
    "print(mannwhitneyu(age_with_disease, age_without_disease))"
   ]
  },
  {
   "cell_type": "code",
   "execution_count": 57,
   "id": "e99fa877",
   "metadata": {},
   "outputs": [
    {
     "name": "stdout",
     "output_type": "stream",
     "text": [
      "age                   float64\n",
      "gender               category\n",
      "height                  int64\n",
      "weight                float64\n",
      "systolic                int64\n",
      "diastolic               int64\n",
      "cholesterol          category\n",
      "glucose              category\n",
      "smoke                category\n",
      "alcohol_intake       category\n",
      "physical_activity    category\n",
      "target               category\n",
      "BMI                   float64\n",
      "dtype: object\n"
     ]
    }
   ],
   "source": [
    "tmp = df[['gender', 'smoke', 'alcohol_intake', 'physical_activity','cholesterol', 'glucose', 'target']]\n",
    "\n",
    "for i in tmp.columns:\n",
    "    df[i] = df[i].astype('category')\n",
    "    \n",
    "print(df.dtypes)"
   ]
  },
  {
   "cell_type": "code",
   "execution_count": 35,
   "id": "ac67a5fe",
   "metadata": {},
   "outputs": [],
   "source": [
    "chi2_results = pd.DataFrame(columns = ['test statitistic', 'p-value', 'df'])"
   ]
  },
  {
   "cell_type": "code",
   "execution_count": 36,
   "id": "21690e1a",
   "metadata": {},
   "outputs": [
    {
     "name": "stdout",
     "output_type": "stream",
     "text": [
      "chi2 =  2388.4209193433835\n",
      "p-val =  0.0\n",
      "degree of freedom =  8\n"
     ]
    }
   ],
   "source": [
    "from scipy.stats import chi2_contingency\n",
    "\n",
    "chi2, p, dof, ex = chi2_contingency(pd.crosstab(df.BMI_State, df.target, margins = True))\n",
    "print(\"chi2 = \", chi2)\n",
    "print(\"p-val = \", p)\n",
    "print(\"degree of freedom = \", dof)\n",
    "\n",
    "chi2_results.loc['BMI_State'] = [chi2, p, dof]"
   ]
  },
  {
   "cell_type": "code",
   "execution_count": 37,
   "id": "fc96f591",
   "metadata": {},
   "outputs": [
    {
     "name": "stdout",
     "output_type": "stream",
     "text": [
      "chi2 =  12937.228398700361\n",
      "p-val =  0.0\n",
      "degree of freedom =  10\n"
     ]
    }
   ],
   "source": [
    "chi2, p, dof, ex = chi2_contingency(pd.crosstab(df.BP_category, df.target, margins = True))\n",
    "print(\"chi2 = \", chi2)\n",
    "print(\"p-val = \", p)\n",
    "print(\"degree of freedom = \", dof)\n",
    "\n",
    "chi2_results.loc['BP_Category'] = [chi2, p, dof]"
   ]
  },
  {
   "cell_type": "code",
   "execution_count": 38,
   "id": "0403c2ef",
   "metadata": {},
   "outputs": [
    {
     "name": "stdout",
     "output_type": "stream",
     "text": [
      "chi2 =  16.88386852296511\n",
      "p-val =  0.0020359893691763984\n",
      "degree of freedom =  4\n"
     ]
    }
   ],
   "source": [
    "chi2, p, dof, ex = chi2_contingency(pd.crosstab(df.smoke, df.target, margins = True))\n",
    "print(\"chi2 = \", chi2)\n",
    "print(\"p-val = \", p)\n",
    "print(\"degree of freedom = \", dof)\n",
    "\n",
    "chi2_results.loc['Smoke'] = [chi2, p, dof]"
   ]
  },
  {
   "cell_type": "code",
   "execution_count": 39,
   "id": "8bedce34",
   "metadata": {},
   "outputs": [
    {
     "name": "stdout",
     "output_type": "stream",
     "text": [
      "chi2 =  3.7963251220795993\n",
      "p-val =  0.43427138706253887\n",
      "degree of freedom =  4\n"
     ]
    }
   ],
   "source": [
    "chi2, p, dof, ex = chi2_contingency(pd.crosstab(df.alcohol_intake, df.target, margins = True))\n",
    "print(\"chi2 = \", chi2)\n",
    "print(\"p-val = \", p)\n",
    "print(\"degree of freedom = \", dof)\n",
    "\n",
    "chi2_results.loc['Alcohol'] = [chi2, p, dof]"
   ]
  },
  {
   "cell_type": "code",
   "execution_count": 40,
   "id": "090708cd",
   "metadata": {},
   "outputs": [
    {
     "name": "stdout",
     "output_type": "stream",
     "text": [
      "chi2 =  89.01456625157039\n",
      "p-val =  2.1321288271136104e-18\n",
      "degree of freedom =  4\n"
     ]
    }
   ],
   "source": [
    "chi2, p, dof, ex = chi2_contingency(pd.crosstab(df.physical_activity, df.target, margins = True))\n",
    "print(\"chi2 = \", chi2)\n",
    "print(\"p-val = \", p)\n",
    "print(\"degree of freedom = \", dof)\n",
    "\n",
    "chi2_results.loc['Physical Activity'] = [chi2, p, dof]"
   ]
  },
  {
   "cell_type": "code",
   "execution_count": 41,
   "id": "c737f6e4",
   "metadata": {},
   "outputs": [
    {
     "name": "stdout",
     "output_type": "stream",
     "text": [
      "chi2 =  4.520144341712786\n",
      "p-val =  0.3401655604386513\n",
      "degree of freedom =  4\n"
     ]
    }
   ],
   "source": [
    "chi2, p, dof, ex = chi2_contingency(pd.crosstab(df.gender, df.target, margins = True))\n",
    "print(\"chi2 = \", chi2)\n",
    "print(\"p-val = \", p)\n",
    "print(\"degree of freedom = \", dof)\n",
    "\n",
    "chi2_results.loc['Gender'] = [chi2, p, dof]"
   ]
  },
  {
   "cell_type": "code",
   "execution_count": 42,
   "id": "29769d28",
   "metadata": {},
   "outputs": [
    {
     "name": "stdout",
     "output_type": "stream",
     "text": [
      "chi2 =  3421.3985623501467\n",
      "p-val =  0.0\n",
      "degree of freedom =  6\n"
     ]
    }
   ],
   "source": [
    "chi2, p, dof, ex = chi2_contingency(pd.crosstab(df.cholesterol, df.target, margins = True))\n",
    "print(\"chi2 = \", chi2)\n",
    "print(\"p-val = \", p)\n",
    "print(\"degree of freedom = \", dof)\n",
    "\n",
    "chi2_results.loc['Cholesterol'] = [chi2, p, dof]"
   ]
  },
  {
   "cell_type": "code",
   "execution_count": 43,
   "id": "07598dc6",
   "metadata": {},
   "outputs": [
    {
     "name": "stdout",
     "output_type": "stream",
     "text": [
      "chi2 =  586.1834296866391\n",
      "p-val =  2.2275433116581686e-123\n",
      "degree of freedom =  6\n"
     ]
    }
   ],
   "source": [
    "chi2, p, dof, ex = chi2_contingency(pd.crosstab(df.glucose, df.target, margins = True))\n",
    "print(\"chi2 = \", chi2)\n",
    "print(\"p-val = \", p)\n",
    "print(\"degree of freedom = \", dof)\n",
    "\n",
    "chi2_results.loc['Glucose'] = [chi2, p, dof]"
   ]
  },
  {
   "cell_type": "code",
   "execution_count": 44,
   "id": "4c5eee49",
   "metadata": {},
   "outputs": [
    {
     "data": {
      "text/html": [
       "<div>\n",
       "<style scoped>\n",
       "    .dataframe tbody tr th:only-of-type {\n",
       "        vertical-align: middle;\n",
       "    }\n",
       "\n",
       "    .dataframe tbody tr th {\n",
       "        vertical-align: top;\n",
       "    }\n",
       "\n",
       "    .dataframe thead th {\n",
       "        text-align: right;\n",
       "    }\n",
       "</style>\n",
       "<table border=\"1\" class=\"dataframe\">\n",
       "  <thead>\n",
       "    <tr style=\"text-align: right;\">\n",
       "      <th></th>\n",
       "      <th>test statitistic</th>\n",
       "      <th>p-value</th>\n",
       "      <th>df</th>\n",
       "    </tr>\n",
       "  </thead>\n",
       "  <tbody>\n",
       "    <tr>\n",
       "      <th>BMI_State</th>\n",
       "      <td>2388.420919</td>\n",
       "      <td>0.000000e+00</td>\n",
       "      <td>8.0</td>\n",
       "    </tr>\n",
       "    <tr>\n",
       "      <th>BP_Category</th>\n",
       "      <td>12937.228399</td>\n",
       "      <td>0.000000e+00</td>\n",
       "      <td>10.0</td>\n",
       "    </tr>\n",
       "    <tr>\n",
       "      <th>Smoke</th>\n",
       "      <td>16.883869</td>\n",
       "      <td>2.035989e-03</td>\n",
       "      <td>4.0</td>\n",
       "    </tr>\n",
       "    <tr>\n",
       "      <th>Alcohol</th>\n",
       "      <td>3.796325</td>\n",
       "      <td>4.342714e-01</td>\n",
       "      <td>4.0</td>\n",
       "    </tr>\n",
       "    <tr>\n",
       "      <th>Physical Activity</th>\n",
       "      <td>89.014566</td>\n",
       "      <td>2.132129e-18</td>\n",
       "      <td>4.0</td>\n",
       "    </tr>\n",
       "    <tr>\n",
       "      <th>Gender</th>\n",
       "      <td>4.520144</td>\n",
       "      <td>3.401656e-01</td>\n",
       "      <td>4.0</td>\n",
       "    </tr>\n",
       "    <tr>\n",
       "      <th>Cholesterol</th>\n",
       "      <td>3421.398562</td>\n",
       "      <td>0.000000e+00</td>\n",
       "      <td>6.0</td>\n",
       "    </tr>\n",
       "    <tr>\n",
       "      <th>Glucose</th>\n",
       "      <td>586.183430</td>\n",
       "      <td>2.227543e-123</td>\n",
       "      <td>6.0</td>\n",
       "    </tr>\n",
       "  </tbody>\n",
       "</table>\n",
       "</div>"
      ],
      "text/plain": [
       "                   test statitistic        p-value    df\n",
       "BMI_State               2388.420919   0.000000e+00   8.0\n",
       "BP_Category            12937.228399   0.000000e+00  10.0\n",
       "Smoke                     16.883869   2.035989e-03   4.0\n",
       "Alcohol                    3.796325   4.342714e-01   4.0\n",
       "Physical Activity         89.014566   2.132129e-18   4.0\n",
       "Gender                     4.520144   3.401656e-01   4.0\n",
       "Cholesterol             3421.398562   0.000000e+00   6.0\n",
       "Glucose                  586.183430  2.227543e-123   6.0"
      ]
     },
     "execution_count": 44,
     "metadata": {},
     "output_type": "execute_result"
    }
   ],
   "source": [
    "chi2_results"
   ]
  },
  {
   "cell_type": "code",
   "execution_count": 18,
   "id": "648191ed",
   "metadata": {},
   "outputs": [
    {
     "data": {
      "image/png": "[encoded data removed]",
      "text/plain": [
       "<Figure size 1152x864 with 2 Axes>"
      ]
     },
     "metadata": {
      "needs_background": "light"
     },
     "output_type": "display_data"
    },
    {
     "name": "stdout",
     "output_type": "stream",
     "text": [
      "{'corr':                         age    gender    height    weight  systolic   \n",
      "age                1.000000  0.022763 -0.084578  0.054577  0.199658  \\\n",
      "gender             0.022763  1.000000  0.513194  0.156162  0.059586   \n",
      "height            -0.084578  0.513194  1.000000  0.302807  0.015191   \n",
      "weight             0.054577  0.156162  0.302807  1.000000  0.263605   \n",
      "systolic           0.199658  0.059586  0.015191  0.263605  1.000000   \n",
      "diastolic          0.146715  0.066595  0.032198  0.248411  0.676594   \n",
      "cholesterol        0.159017  0.035719  0.053198  0.143464  0.193168   \n",
      "glucose            0.099704  0.020153  0.020991  0.122527  0.099956   \n",
      "smoke              0.047650  0.338060  0.193192  0.068180  0.027726   \n",
      "alcohol_intake     0.029735  0.170843  0.096836  0.067275  0.032072   \n",
      "physical_activity  0.009918  0.004503  0.007590  0.017250  0.002624   \n",
      "target             0.238189  0.007059  0.011779  0.182562  0.415733   \n",
      "BMI                0.100376  0.110433 -0.218858  0.856658  0.259420   \n",
      "\n",
      "                   diastolic  cholesterol   glucose     smoke  alcohol_intake   \n",
      "age                 0.146715     0.159017  0.099704  0.047650        0.029735  \\\n",
      "gender              0.066595     0.035719  0.020153  0.338060        0.170843   \n",
      "height              0.032198     0.053198  0.020991  0.193192        0.096836   \n",
      "weight              0.248411     0.143464  0.122527  0.068180        0.067275   \n",
      "systolic            0.676594     0.193168  0.099956  0.027726        0.032072   \n",
      "diastolic           1.000000     0.157181  0.080945  0.026741        0.040337   \n",
      "cholesterol         0.157181     1.000000  0.393948  0.023992        0.045167   \n",
      "glucose             0.080945     0.393948  1.000000  0.019216        0.031185   \n",
      "smoke               0.026741     0.023992  0.019216  1.000000        0.339947   \n",
      "alcohol_intake      0.040337     0.045167  0.031185  0.339947        1.000000   \n",
      "physical_activity   0.002460     0.012284  0.008958  0.025529        0.025124   \n",
      "target              0.336887     0.221057  0.091370  0.015014        0.006248   \n",
      "BMI                 0.235202     0.171132  0.133365  0.031971        0.016979   \n",
      "\n",
      "                   physical_activity    target       BMI  \n",
      "age                         0.009918  0.238189  0.100376  \n",
      "gender                      0.004503  0.007059  0.110433  \n",
      "height                      0.007590  0.011779 -0.218858  \n",
      "weight                      0.017250  0.182562  0.856658  \n",
      "systolic                    0.002624  0.415733  0.259420  \n",
      "diastolic                   0.002460  0.336887  0.235202  \n",
      "cholesterol                 0.012284  0.221057  0.171132  \n",
      "glucose                     0.008958  0.091370  0.133365  \n",
      "smoke                       0.025529  0.015014  0.031971  \n",
      "alcohol_intake              0.025124  0.006248  0.016979  \n",
      "physical_activity           1.000000  0.035429  0.014394  \n",
      "target                      0.035429  1.000000  0.190537  \n",
      "BMI                         0.014394  0.190537  1.000000  , 'ax': <Axes: title={'center': 'Correlation between Features'}>}\n"
     ]
    }
   ],
   "source": [
    "from dython.nominal import associations\n",
    "# specify the categorical and continuous variables\n",
    "cat_vars = ['gender', 'smoke', 'alcohol_intake', 'physical_activity','cholesterol', 'glucose', 'target']\n",
    "num_vars = ['age', 'height', 'weight', 'systolic', 'diastolic', 'BMI']\n",
    "\n",
    "# compute associations between all variables\n",
    "assoc_report = associations(df, nominal_columns = cat_vars, numerical_columns = num_vars, annot = True, title = \"Correlation between Features\", cmap = \"YlGnBu\", figsize = (16, 12))\n",
    "\n",
    "# display the association report\n",
    "print(assoc_report)"
   ]
  },
  {
   "cell_type": "markdown",
   "id": "7b7cac6a",
   "metadata": {},
   "source": [
    "### Classification Models"
   ]
  },
  {
   "cell_type": "code",
   "execution_count": null,
   "id": "73e4eb1d",
   "metadata": {},
   "outputs": [],
   "source": [
    "# Logistic Regression\n",
    "# Support Vector Machines\n",
    "# Naive Bayes\n",
    "# Decision Trees\n",
    "# Random Forest\n",
    "# XGBoost\n",
    "# KNN"
   ]
  },
  {
   "cell_type": "code",
   "execution_count": 41,
   "id": "af5cd3dc",
   "metadata": {},
   "outputs": [],
   "source": [
    "# extract input and output features\n",
    "y = df['target']\n",
    "X = df.drop(columns = ['target', 'height', 'weight'])"
   ]
  },
  {
   "cell_type": "code",
   "execution_count": 42,
   "id": "eadad40f",
   "metadata": {},
   "outputs": [
    {
     "data": {
      "text/html": [
       "<div>\n",
       "<style scoped>\n",
       "    .dataframe tbody tr th:only-of-type {\n",
       "        vertical-align: middle;\n",
       "    }\n",
       "\n",
       "    .dataframe tbody tr th {\n",
       "        vertical-align: top;\n",
       "    }\n",
       "\n",
       "    .dataframe thead th {\n",
       "        text-align: right;\n",
       "    }\n",
       "</style>\n",
       "<table border=\"1\" class=\"dataframe\">\n",
       "  <thead>\n",
       "    <tr style=\"text-align: right;\">\n",
       "      <th></th>\n",
       "      <th>age</th>\n",
       "      <th>gender</th>\n",
       "      <th>systolic</th>\n",
       "      <th>diastolic</th>\n",
       "      <th>cholesterol</th>\n",
       "      <th>glucose</th>\n",
       "      <th>smoke</th>\n",
       "      <th>alcohol_intake</th>\n",
       "      <th>physical_activity</th>\n",
       "      <th>BMI</th>\n",
       "    </tr>\n",
       "  </thead>\n",
       "  <tbody>\n",
       "    <tr>\n",
       "      <th>0</th>\n",
       "      <td>50.391781</td>\n",
       "      <td>1</td>\n",
       "      <td>110</td>\n",
       "      <td>80</td>\n",
       "      <td>0</td>\n",
       "      <td>0</td>\n",
       "      <td>0</td>\n",
       "      <td>0</td>\n",
       "      <td>1</td>\n",
       "      <td>22.0</td>\n",
       "    </tr>\n",
       "    <tr>\n",
       "      <th>1</th>\n",
       "      <td>55.419178</td>\n",
       "      <td>0</td>\n",
       "      <td>140</td>\n",
       "      <td>90</td>\n",
       "      <td>2</td>\n",
       "      <td>0</td>\n",
       "      <td>0</td>\n",
       "      <td>0</td>\n",
       "      <td>1</td>\n",
       "      <td>34.9</td>\n",
       "    </tr>\n",
       "    <tr>\n",
       "      <th>2</th>\n",
       "      <td>51.663014</td>\n",
       "      <td>0</td>\n",
       "      <td>130</td>\n",
       "      <td>70</td>\n",
       "      <td>2</td>\n",
       "      <td>0</td>\n",
       "      <td>0</td>\n",
       "      <td>0</td>\n",
       "      <td>0</td>\n",
       "      <td>23.5</td>\n",
       "    </tr>\n",
       "    <tr>\n",
       "      <th>3</th>\n",
       "      <td>48.282192</td>\n",
       "      <td>1</td>\n",
       "      <td>150</td>\n",
       "      <td>100</td>\n",
       "      <td>0</td>\n",
       "      <td>0</td>\n",
       "      <td>0</td>\n",
       "      <td>0</td>\n",
       "      <td>1</td>\n",
       "      <td>28.7</td>\n",
       "    </tr>\n",
       "    <tr>\n",
       "      <th>4</th>\n",
       "      <td>47.873973</td>\n",
       "      <td>0</td>\n",
       "      <td>100</td>\n",
       "      <td>60</td>\n",
       "      <td>0</td>\n",
       "      <td>0</td>\n",
       "      <td>0</td>\n",
       "      <td>0</td>\n",
       "      <td>0</td>\n",
       "      <td>23.0</td>\n",
       "    </tr>\n",
       "    <tr>\n",
       "      <th>...</th>\n",
       "      <td>...</td>\n",
       "      <td>...</td>\n",
       "      <td>...</td>\n",
       "      <td>...</td>\n",
       "      <td>...</td>\n",
       "      <td>...</td>\n",
       "      <td>...</td>\n",
       "      <td>...</td>\n",
       "      <td>...</td>\n",
       "      <td>...</td>\n",
       "    </tr>\n",
       "    <tr>\n",
       "      <th>69995</th>\n",
       "      <td>52.712329</td>\n",
       "      <td>1</td>\n",
       "      <td>120</td>\n",
       "      <td>80</td>\n",
       "      <td>0</td>\n",
       "      <td>0</td>\n",
       "      <td>1</td>\n",
       "      <td>0</td>\n",
       "      <td>1</td>\n",
       "      <td>26.9</td>\n",
       "    </tr>\n",
       "    <tr>\n",
       "      <th>69996</th>\n",
       "      <td>61.920548</td>\n",
       "      <td>0</td>\n",
       "      <td>140</td>\n",
       "      <td>90</td>\n",
       "      <td>1</td>\n",
       "      <td>1</td>\n",
       "      <td>0</td>\n",
       "      <td>0</td>\n",
       "      <td>1</td>\n",
       "      <td>50.5</td>\n",
       "    </tr>\n",
       "    <tr>\n",
       "      <th>69997</th>\n",
       "      <td>52.235616</td>\n",
       "      <td>1</td>\n",
       "      <td>180</td>\n",
       "      <td>90</td>\n",
       "      <td>2</td>\n",
       "      <td>0</td>\n",
       "      <td>0</td>\n",
       "      <td>1</td>\n",
       "      <td>0</td>\n",
       "      <td>31.4</td>\n",
       "    </tr>\n",
       "    <tr>\n",
       "      <th>69998</th>\n",
       "      <td>61.454795</td>\n",
       "      <td>0</td>\n",
       "      <td>135</td>\n",
       "      <td>80</td>\n",
       "      <td>0</td>\n",
       "      <td>1</td>\n",
       "      <td>0</td>\n",
       "      <td>0</td>\n",
       "      <td>0</td>\n",
       "      <td>27.1</td>\n",
       "    </tr>\n",
       "    <tr>\n",
       "      <th>69999</th>\n",
       "      <td>56.273973</td>\n",
       "      <td>0</td>\n",
       "      <td>120</td>\n",
       "      <td>80</td>\n",
       "      <td>1</td>\n",
       "      <td>0</td>\n",
       "      <td>0</td>\n",
       "      <td>0</td>\n",
       "      <td>1</td>\n",
       "      <td>24.9</td>\n",
       "    </tr>\n",
       "  </tbody>\n",
       "</table>\n",
       "<p>69976 rows × 10 columns</p>\n",
       "</div>"
      ],
      "text/plain": [
       "             age  gender  systolic  diastolic  cholesterol  glucose  smoke  \\\n",
       "0      50.391781       1       110         80            0        0      0   \n",
       "1      55.419178       0       140         90            2        0      0   \n",
       "2      51.663014       0       130         70            2        0      0   \n",
       "3      48.282192       1       150        100            0        0      0   \n",
       "4      47.873973       0       100         60            0        0      0   \n",
       "...          ...     ...       ...        ...          ...      ...    ...   \n",
       "69995  52.712329       1       120         80            0        0      1   \n",
       "69996  61.920548       0       140         90            1        1      0   \n",
       "69997  52.235616       1       180         90            2        0      0   \n",
       "69998  61.454795       0       135         80            0        1      0   \n",
       "69999  56.273973       0       120         80            1        0      0   \n",
       "\n",
       "       alcohol_intake  physical_activity   BMI  \n",
       "0                   0                  1  22.0  \n",
       "1                   0                  1  34.9  \n",
       "2                   0                  0  23.5  \n",
       "3                   0                  1  28.7  \n",
       "4                   0                  0  23.0  \n",
       "...               ...                ...   ...  \n",
       "69995               0                  1  26.9  \n",
       "69996               0                  1  50.5  \n",
       "69997               1                  0  31.4  \n",
       "69998               0                  0  27.1  \n",
       "69999               0                  1  24.9  \n",
       "\n",
       "[69976 rows x 10 columns]"
      ]
     },
     "execution_count": 42,
     "metadata": {},
     "output_type": "execute_result"
    }
   ],
   "source": [
    "X"
   ]
  },
  {
   "cell_type": "code",
   "execution_count": 43,
   "id": "c8e70aa4",
   "metadata": {},
   "outputs": [
    {
     "name": "stdout",
     "output_type": "stream",
     "text": [
      "(48983, 10) (48983,)\n",
      "(20993, 10) (20993,)\n"
     ]
    }
   ],
   "source": [
    "# split into training and test set\n",
    "from sklearn.model_selection import train_test_split\n",
    "X_train, X_test, y_train, y_test = train_test_split(X, y, test_size = 0.30, random_state=420)\n",
    "print(X_train.shape, y_train.shape)\n",
    "print(X_test.shape, y_test.shape)"
   ]
  },
  {
   "cell_type": "code",
   "execution_count": 44,
   "id": "de3b6b3e",
   "metadata": {},
   "outputs": [],
   "source": [
    "# feature normalisation\n",
    "from sklearn.preprocessing import StandardScaler\n",
    "from sklearn.compose import ColumnTransformer\n",
    "\n",
    "def featureNormalisation():\n",
    "  numeric_data = ['age','systolic', 'diastolic', 'BMI']\n",
    "\n",
    "  ct = ColumnTransformer([('scaler', StandardScaler(), numeric_data)], remainder = 'passthrough')\n",
    "\n",
    "  X_train_scaled = ct.fit_transform(X_train)\n",
    "  # print(pd.DataFrame(X_train_scaled, columns = ct.get_feature_names_out()))\n",
    "  # the test set uses the fitted scaler in train dataset to transform in the test set\n",
    "  X_test_scaled = ct.transform(X_test)\n",
    "  return X_train_scaled, X_test_scaled, ct\n",
    "\n",
    "X_train_scaled, X_test_scaled, ct = featureNormalisation()"
   ]
  },
  {
   "cell_type": "code",
   "execution_count": 45,
   "id": "0060f181",
   "metadata": {},
   "outputs": [],
   "source": [
    "from sklearn.linear_model import LogisticRegression\n",
    "from sklearn.naive_bayes import GaussianNB\n",
    "from sklearn.tree import DecisionTreeClassifier\n",
    "from sklearn.ensemble import RandomForestClassifier\n",
    "from sklearn.ensemble import GradientBoostingClassifier\n",
    "from xgboost import XGBClassifier\n",
    "from sklearn.neighbors import KNeighborsClassifier\n",
    "from sklearn.svm import SVC\n",
    "from sklearn.metrics import classification_report, confusion_matrix, accuracy_score, precision_score, recall_score, f1_score, ConfusionMatrixDisplay, roc_auc_score, plot_confusion_matrix, plot_roc_curve\n",
    "\n",
    "svm = SVC(C = 1, gamma = 0.1, kernel = 'rbf') # best parameter after tuning\n",
    "lr = LogisticRegression()\n",
    "gnb = GaussianNB()\n",
    "dt = DecisionTreeClassifier()\n",
    "rf = RandomForestClassifier()\n",
    "xgb = XGBClassifier()\n",
    "knn = KNeighborsClassifier()"
   ]
  },
  {
   "cell_type": "code",
   "execution_count": 46,
   "id": "de8188ea",
   "metadata": {},
   "outputs": [],
   "source": [
    "models = {\"Logistic Regression\" : lr,\n",
    "          \"Naive Bayes\" : gnb,\n",
    "          \"Decision Tree\" : dt,\n",
    "          \"Random Forest\" : rf,\n",
    "          \"KNN\" : knn,\n",
    "          \"SVM\" : svm,\n",
    "          \"XGBoost\" : xgb}\n",
    "scores = { }"
   ]
  },
  {
   "cell_type": "code",
   "execution_count": 47,
   "id": "ff1bf211",
   "metadata": {},
   "outputs": [],
   "source": [
    "for key, value in models.items():    \n",
    "    model = value\n",
    "    model.fit(X_train_scaled, y_train)\n",
    "    scores[key] = model.score(X_test_scaled, y_test)"
   ]
  },
  {
   "cell_type": "code",
   "execution_count": 48,
   "id": "eaa2cd7f",
   "metadata": {},
   "outputs": [
    {
     "data": {
      "text/html": [
       "<div>\n",
       "<style scoped>\n",
       "    .dataframe tbody tr th:only-of-type {\n",
       "        vertical-align: middle;\n",
       "    }\n",
       "\n",
       "    .dataframe tbody tr th {\n",
       "        vertical-align: top;\n",
       "    }\n",
       "\n",
       "    .dataframe thead th {\n",
       "        text-align: right;\n",
       "    }\n",
       "</style>\n",
       "<table border=\"1\" class=\"dataframe\">\n",
       "  <thead>\n",
       "    <tr style=\"text-align: right;\">\n",
       "      <th></th>\n",
       "      <th>Accuracy</th>\n",
       "    </tr>\n",
       "  </thead>\n",
       "  <tbody>\n",
       "    <tr>\n",
       "      <th>SVM</th>\n",
       "      <td>0.735531</td>\n",
       "    </tr>\n",
       "    <tr>\n",
       "      <th>XGBoost</th>\n",
       "      <td>0.732959</td>\n",
       "    </tr>\n",
       "    <tr>\n",
       "      <th>Logistic Regression</th>\n",
       "      <td>0.729624</td>\n",
       "    </tr>\n",
       "    <tr>\n",
       "      <th>Naive Bayes</th>\n",
       "      <td>0.707474</td>\n",
       "    </tr>\n",
       "    <tr>\n",
       "      <th>Random Forest</th>\n",
       "      <td>0.705283</td>\n",
       "    </tr>\n",
       "    <tr>\n",
       "      <th>KNN</th>\n",
       "      <td>0.695470</td>\n",
       "    </tr>\n",
       "    <tr>\n",
       "      <th>Decision Tree</th>\n",
       "      <td>0.639975</td>\n",
       "    </tr>\n",
       "  </tbody>\n",
       "</table>\n",
       "</div>"
      ],
      "text/plain": [
       "                     Accuracy\n",
       "SVM                  0.735531\n",
       "XGBoost              0.732959\n",
       "Logistic Regression  0.729624\n",
       "Naive Bayes          0.707474\n",
       "Random Forest        0.705283\n",
       "KNN                  0.695470\n",
       "Decision Tree        0.639975"
      ]
     },
     "execution_count": 48,
     "metadata": {},
     "output_type": "execute_result"
    }
   ],
   "source": [
    "scores_frame = pd.DataFrame(scores, index = [\"Accuracy\"]).T\n",
    "scores_frame.sort_values(by = [\"Accuracy\"], axis = 0 , ascending = False, inplace = True)\n",
    "scores_frame"
   ]
  },
  {
   "cell_type": "code",
   "execution_count": 49,
   "id": "39e1ecfb",
   "metadata": {},
   "outputs": [],
   "source": [
    "results = pd.DataFrame(columns = ['Accuracy', 'Precision', 'Recall', 'F1-score'])\n",
    "confusionMatrix = pd.DataFrame(columns = ['True Positive', 'False Positive', 'True Negative', 'False Negative'])"
   ]
  },
  {
   "cell_type": "code",
   "execution_count": 50,
   "id": "131ca821",
   "metadata": {},
   "outputs": [],
   "source": [
    "from sklearn.metrics import classification_report, confusion_matrix, accuracy_score, precision_score, recall_score, f1_score, ConfusionMatrixDisplay, roc_auc_score, plot_confusion_matrix, plot_roc_curve\n",
    "def get_results(model, model_name):\n",
    "    predictions = model.predict(X_test_scaled)\n",
    "    \n",
    "    # get classification report\n",
    "    print('{} Classification Report'.format(model_name))\n",
    "    print(classification_report(y_test, predictions))\n",
    "    \n",
    "    # get confusion matrix\n",
    "    plot_confusion_matrix(model, X_test_scaled, y_test, cmap = \"Blues\", values_format = '.5g')\n",
    "    plt.grid(False)\n",
    "    plt.show()\n",
    "    \n",
    "    # get accuracy, precision, recall, and F1 scores\n",
    "    accuracy = accuracy_score(y_test, predictions) * 100\n",
    "    precision = precision_score(y_test, predictions)\n",
    "    recall = recall_score(y_test, predictions)\n",
    "    f1 = f1_score(y_test, predictions)\n",
    "    \n",
    "    #get false neg and true positive\n",
    "    cm = confusion_matrix(y_test, predictions)\n",
    "    TN = cm[0][0]\n",
    "    FP = cm[0][1]\n",
    "    FN = cm[1][0]\n",
    "    TP = cm[1][1]\n",
    "    \n",
    "    # save measurements into results df\n",
    "    results.loc[model_name] = [round(accuracy, 2), round(precision, 2), round(recall, 2), round(f1, 2)]\n",
    "    \n",
    "    # save measurements into CM df\n",
    "    confusionMatrix.loc[model_name] = [round(TP, 0), round(FP, 0), round(TN, 0), round(FN, 0)]"
   ]
  },
  {
   "cell_type": "markdown",
   "id": "a39b7cbe",
   "metadata": {},
   "source": [
    "### Support Vector Machine"
   ]
  },
  {
   "cell_type": "code",
   "execution_count": 51,
   "id": "f343b0ef",
   "metadata": {},
   "outputs": [
    {
     "name": "stdout",
     "output_type": "stream",
     "text": [
      "0.7355308912494641\n"
     ]
    }
   ],
   "source": [
    "from sklearn.metrics import accuracy_score\n",
    "# train model\n",
    "svm.fit(X_train_scaled, y_train)\n",
    " \n",
    "# print prediction results\n",
    "predictions = svm.predict(X_test_scaled)\n",
    "print(accuracy_score(y_test, predictions))"
   ]
  },
  {
   "cell_type": "code",
   "execution_count": 40,
   "id": "40498b3e",
   "metadata": {},
   "outputs": [
    {
     "name": "stdout",
     "output_type": "stream",
     "text": [
      "Fitting 5 folds for each of 12 candidates, totalling 60 fits\n",
      "[CV 1/5] END ........C=0.1, gamma=1, kernel=rbf;, score=0.720 total time= 2.5min\n",
      "[CV 2/5] END ........C=0.1, gamma=1, kernel=rbf;, score=0.717 total time= 2.1min\n",
      "[CV 3/5] END ........C=0.1, gamma=1, kernel=rbf;, score=0.722 total time= 2.0min\n",
      "[CV 4/5] END ........C=0.1, gamma=1, kernel=rbf;, score=0.723 total time= 2.1min\n",
      "[CV 5/5] END ........C=0.1, gamma=1, kernel=rbf;, score=0.724 total time= 2.0min\n",
      "[CV 1/5] END ......C=0.1, gamma=0.1, kernel=rbf;, score=0.730 total time= 1.3min\n",
      "[CV 2/5] END ......C=0.1, gamma=0.1, kernel=rbf;, score=0.728 total time= 1.3min\n",
      "[CV 3/5] END ......C=0.1, gamma=0.1, kernel=rbf;, score=0.732 total time= 1.2min\n",
      "[CV 4/5] END ......C=0.1, gamma=0.1, kernel=rbf;, score=0.738 total time= 1.3min\n",
      "[CV 5/5] END ......C=0.1, gamma=0.1, kernel=rbf;, score=0.735 total time= 1.2min\n",
      "[CV 1/5] END .....C=0.1, gamma=0.01, kernel=rbf;, score=0.726 total time= 1.2min\n",
      "[CV 2/5] END .....C=0.1, gamma=0.01, kernel=rbf;, score=0.726 total time= 1.4min\n",
      "[CV 3/5] END .....C=0.1, gamma=0.01, kernel=rbf;, score=0.730 total time= 1.8min\n",
      "[CV 4/5] END .....C=0.1, gamma=0.01, kernel=rbf;, score=0.731 total time= 1.6min\n",
      "[CV 5/5] END .....C=0.1, gamma=0.01, kernel=rbf;, score=0.728 total time= 1.5min\n",
      "[CV 1/5] END ....C=0.1, gamma=0.001, kernel=rbf;, score=0.722 total time= 1.9min\n",
      "[CV 2/5] END ....C=0.1, gamma=0.001, kernel=rbf;, score=0.719 total time= 1.7min\n",
      "[CV 3/5] END ....C=0.1, gamma=0.001, kernel=rbf;, score=0.725 total time= 1.4min\n",
      "[CV 4/5] END ....C=0.1, gamma=0.001, kernel=rbf;, score=0.728 total time= 1.4min\n",
      "[CV 5/5] END ....C=0.1, gamma=0.001, kernel=rbf;, score=0.722 total time= 1.4min\n",
      "[CV 1/5] END ..........C=1, gamma=1, kernel=rbf;, score=0.725 total time= 3.6min\n",
      "[CV 2/5] END ..........C=1, gamma=1, kernel=rbf;, score=0.728 total time= 3.9min\n",
      "[CV 3/5] END ..........C=1, gamma=1, kernel=rbf;, score=0.727 total time= 4.8min\n",
      "[CV 4/5] END ..........C=1, gamma=1, kernel=rbf;, score=0.732 total time= 4.3min\n",
      "[CV 5/5] END ..........C=1, gamma=1, kernel=rbf;, score=0.733 total time= 3.9min\n",
      "[CV 1/5] END ........C=1, gamma=0.1, kernel=rbf;, score=0.731 total time= 1.8min\n",
      "[CV 2/5] END ........C=1, gamma=0.1, kernel=rbf;, score=0.731 total time= 1.8min\n",
      "[CV 3/5] END ........C=1, gamma=0.1, kernel=rbf;, score=0.737 total time= 1.7min\n",
      "[CV 4/5] END ........C=1, gamma=0.1, kernel=rbf;, score=0.741 total time= 1.7min\n",
      "[CV 5/5] END ........C=1, gamma=0.1, kernel=rbf;, score=0.735 total time= 2.4min\n",
      "[CV 1/5] END .......C=1, gamma=0.01, kernel=rbf;, score=0.729 total time= 2.1min\n",
      "[CV 2/5] END .......C=1, gamma=0.01, kernel=rbf;, score=0.728 total time= 1.7min\n",
      "[CV 3/5] END .......C=1, gamma=0.01, kernel=rbf;, score=0.730 total time= 1.3min\n",
      "[CV 4/5] END .......C=1, gamma=0.01, kernel=rbf;, score=0.736 total time= 1.5min\n",
      "[CV 5/5] END .......C=1, gamma=0.01, kernel=rbf;, score=0.733 total time= 1.5min\n",
      "[CV 1/5] END ......C=1, gamma=0.001, kernel=rbf;, score=0.724 total time= 1.3min\n",
      "[CV 2/5] END ......C=1, gamma=0.001, kernel=rbf;, score=0.723 total time= 1.5min\n",
      "[CV 3/5] END ......C=1, gamma=0.001, kernel=rbf;, score=0.728 total time= 1.4min\n",
      "[CV 4/5] END ......C=1, gamma=0.001, kernel=rbf;, score=0.728 total time= 1.4min\n",
      "[CV 5/5] END ......C=1, gamma=0.001, kernel=rbf;, score=0.726 total time= 1.3min\n",
      "[CV 1/5] END .........C=10, gamma=1, kernel=rbf;, score=0.693 total time= 7.2min\n",
      "[CV 2/5] END .........C=10, gamma=1, kernel=rbf;, score=0.699 total time= 6.9min\n",
      "[CV 3/5] END .........C=10, gamma=1, kernel=rbf;, score=0.698 total time= 7.5min\n",
      "[CV 4/5] END .........C=10, gamma=1, kernel=rbf;, score=0.699 total time= 7.9min\n",
      "[CV 5/5] END .........C=10, gamma=1, kernel=rbf;, score=0.698 total time= 7.8min\n",
      "[CV 1/5] END .......C=10, gamma=0.1, kernel=rbf;, score=0.730 total time= 2.0min\n",
      "[CV 2/5] END .......C=10, gamma=0.1, kernel=rbf;, score=0.731 total time= 2.1min\n",
      "[CV 3/5] END .......C=10, gamma=0.1, kernel=rbf;, score=0.736 total time= 2.1min\n",
      "[CV 4/5] END .......C=10, gamma=0.1, kernel=rbf;, score=0.741 total time= 2.0min\n",
      "[CV 5/5] END .......C=10, gamma=0.1, kernel=rbf;, score=0.737 total time= 1.9min\n",
      "[CV 1/5] END ......C=10, gamma=0.01, kernel=rbf;, score=0.730 total time= 1.2min\n",
      "[CV 2/5] END ......C=10, gamma=0.01, kernel=rbf;, score=0.728 total time= 1.3min\n",
      "[CV 3/5] END ......C=10, gamma=0.01, kernel=rbf;, score=0.732 total time= 1.3min\n",
      "[CV 4/5] END ......C=10, gamma=0.01, kernel=rbf;, score=0.738 total time= 1.3min\n",
      "[CV 5/5] END ......C=10, gamma=0.01, kernel=rbf;, score=0.736 total time= 1.3min\n",
      "[CV 1/5] END .....C=10, gamma=0.001, kernel=rbf;, score=0.726 total time= 1.3min\n",
      "[CV 2/5] END .....C=10, gamma=0.001, kernel=rbf;, score=0.727 total time= 1.3min\n",
      "[CV 3/5] END .....C=10, gamma=0.001, kernel=rbf;, score=0.730 total time= 1.8min\n",
      "[CV 4/5] END .....C=10, gamma=0.001, kernel=rbf;, score=0.732 total time= 2.2min\n",
      "[CV 5/5] END .....C=10, gamma=0.001, kernel=rbf;, score=0.729 total time= 2.0min\n"
     ]
    },
    {
     "data": {
      "text/plain": [
       "GridSearchCV(estimator=SVC(),\n",
       "             param_grid={'C': [0.1, 1, 10], 'gamma': [1, 0.1, 0.01, 0.001],\n",
       "                         'kernel': ['rbf']},\n",
       "             verbose=3)"
      ]
     },
     "execution_count": 40,
     "metadata": {},
     "output_type": "execute_result"
    }
   ],
   "source": [
    "from sklearn.model_selection import GridSearchCV\n",
    " \n",
    "# defining parameter range\n",
    "param_grid = {'C': [0.1, 1, 10],'gamma': [1, 0.1, 0.01, 0.001], 'kernel': ['rbf']}\n",
    " \n",
    "grid = GridSearchCV(SVC(), param_grid, refit = True, verbose = 3)\n",
    " \n",
    "# fitting the model for grid search\n",
    "grid.fit(X_train_scaled, y_train)"
   ]
  },
  {
   "cell_type": "code",
   "execution_count": 41,
   "id": "e6d4bfc9",
   "metadata": {},
   "outputs": [
    {
     "name": "stdout",
     "output_type": "stream",
     "text": [
      "{'C': 1, 'gamma': 0.1, 'kernel': 'rbf'}\n",
      "SVC(C=1, gamma=0.1)\n"
     ]
    }
   ],
   "source": [
    "# print best parameter after tuning\n",
    "print(grid.best_params_)\n",
    " \n",
    "# print how our model looks after hyper-parameter tuning\n",
    "print(grid.best_estimator_)"
   ]
  },
  {
   "cell_type": "code",
   "execution_count": 52,
   "id": "a6fa578d",
   "metadata": {},
   "outputs": [
    {
     "name": "stdout",
     "output_type": "stream",
     "text": [
      "Support Vector Machine Classification Report\n",
      "              precision    recall  f1-score   support\n",
      "\n",
      "           0       0.72      0.78      0.75     10612\n",
      "           1       0.76      0.69      0.72     10381\n",
      "\n",
      "    accuracy                           0.74     20993\n",
      "   macro avg       0.74      0.73      0.73     20993\n",
      "weighted avg       0.74      0.74      0.73     20993\n",
      "\n"
     ]
    },
    {
     "data": {
      "image/png": "[encoded data removed]",
      "text/plain": [
       "<Figure size 640x480 with 2 Axes>"
      ]
     },
     "metadata": {},
     "output_type": "display_data"
    }
   ],
   "source": [
    "# see model results and add to results df\n",
    "get_results(svm, 'Support Vector Machine')"
   ]
  },
  {
   "cell_type": "code",
   "execution_count": 53,
   "id": "3ab17e4d",
   "metadata": {},
   "outputs": [],
   "source": [
    "svm_model = svm"
   ]
  },
  {
   "cell_type": "code",
   "execution_count": 54,
   "id": "955cba28",
   "metadata": {},
   "outputs": [
    {
     "data": {
      "text/plain": [
       "['svm_model.pkl']"
      ]
     },
     "execution_count": 54,
     "metadata": {},
     "output_type": "execute_result"
    }
   ],
   "source": [
    "import joblib\n",
    "joblib.dump(svm_model, 'svm_model.pkl')"
   ]
  },
  {
   "cell_type": "code",
   "execution_count": 55,
   "id": "b9c3869e",
   "metadata": {},
   "outputs": [
    {
     "data": {
      "text/plain": [
       "['svm_scaler.pkl']"
      ]
     },
     "execution_count": 55,
     "metadata": {},
     "output_type": "execute_result"
    }
   ],
   "source": [
    "joblib.dump(ct, 'svm_scaler.pkl')"
   ]
  },
  {
   "cell_type": "markdown",
   "id": "3d5016df",
   "metadata": {},
   "source": [
    "### Logistic Regression"
   ]
  },
  {
   "cell_type": "code",
   "execution_count": 56,
   "id": "5c6d337d",
   "metadata": {},
   "outputs": [
    {
     "name": "stdout",
     "output_type": "stream",
     "text": [
      "0.7296241604344306\n"
     ]
    }
   ],
   "source": [
    "# train model\n",
    "lr.fit(X_train_scaled, y_train)\n",
    " \n",
    "# print prediction results\n",
    "predictions = lr.predict(X_test_scaled)\n",
    "print(accuracy_score(y_test, predictions))"
   ]
  },
  {
   "cell_type": "code",
   "execution_count": 57,
   "id": "95478cda",
   "metadata": {},
   "outputs": [
    {
     "data": {
      "text/plain": [
       "GridSearchCV(estimator=LogisticRegression(),\n",
       "             param_grid={'C': [0.05, 0.1, 1], 'class_weight': [None, {1: 1.5}],\n",
       "                         'penalty': ['l2'], 'random_state': [42]},\n",
       "             scoring='accuracy')"
      ]
     },
     "execution_count": 57,
     "metadata": {},
     "output_type": "execute_result"
    }
   ],
   "source": [
    "from sklearn.model_selection import GridSearchCV\n",
    "# define parameter grid\n",
    "param_grid = {\n",
    "    'penalty': ['l2'],\n",
    "    'C':[0.05, 0.1, 1], \n",
    "    'class_weight' : [None, {1 : 1.5}], \n",
    "    'random_state' : [42]\n",
    "}\n",
    "\n",
    "# create a GridSearchCV object to search over the parameter grid\n",
    "grid = GridSearchCV(lr, param_grid, scoring = 'accuracy')\n",
    "\n",
    "# fit the GridSearchCV object to the training data\n",
    "grid.fit(X_train_scaled, y_train)"
   ]
  },
  {
   "cell_type": "code",
   "execution_count": 58,
   "id": "ae15c26a",
   "metadata": {},
   "outputs": [
    {
     "name": "stdout",
     "output_type": "stream",
     "text": [
      "{'C': 1, 'class_weight': None, 'penalty': 'l2', 'random_state': 42}\n",
      "LogisticRegression(C=1, random_state=42)\n"
     ]
    }
   ],
   "source": [
    "# print best parameter after tuning\n",
    "print(grid.best_params_)\n",
    " \n",
    "# print how our model looks after hyper-parameter tuning\n",
    "print(grid.best_estimator_)"
   ]
  },
  {
   "cell_type": "code",
   "execution_count": 59,
   "id": "1c8d06b5",
   "metadata": {},
   "outputs": [
    {
     "name": "stdout",
     "output_type": "stream",
     "text": [
      "Logistic Regression Classification Report\n",
      "              precision    recall  f1-score   support\n",
      "\n",
      "           0       0.71      0.78      0.74     10612\n",
      "           1       0.75      0.68      0.71     10381\n",
      "\n",
      "    accuracy                           0.73     20993\n",
      "   macro avg       0.73      0.73      0.73     20993\n",
      "weighted avg       0.73      0.73      0.73     20993\n",
      "\n"
     ]
    },
    {
     "data": {
      "image/png": "[encoded data removed]",
      "text/plain": [
       "<Figure size 640x480 with 2 Axes>"
      ]
     },
     "metadata": {},
     "output_type": "display_data"
    }
   ],
   "source": [
    "# see model results and add to results df\n",
    "get_results(grid, 'Logistic Regression')"
   ]
  },
  {
   "cell_type": "code",
   "execution_count": 60,
   "id": "4f8092a2",
   "metadata": {},
   "outputs": [],
   "source": [
    "lr_model = grid"
   ]
  },
  {
   "cell_type": "code",
   "execution_count": 61,
   "id": "9eeb70d4",
   "metadata": {},
   "outputs": [
    {
     "data": {
      "text/plain": [
       "['lr_model.pkl']"
      ]
     },
     "execution_count": 61,
     "metadata": {},
     "output_type": "execute_result"
    }
   ],
   "source": [
    "import joblib\n",
    "joblib.dump(lr_model, 'lr_model.pkl')"
   ]
  },
  {
   "cell_type": "code",
   "execution_count": 62,
   "id": "a065b71d",
   "metadata": {},
   "outputs": [
    {
     "data": {
      "text/plain": [
       "['lr_scaler.pkl']"
      ]
     },
     "execution_count": 62,
     "metadata": {},
     "output_type": "execute_result"
    }
   ],
   "source": [
    "joblib.dump(ct, 'lr_scaler.pkl')"
   ]
  },
  {
   "cell_type": "markdown",
   "id": "51da0df3",
   "metadata": {},
   "source": [
    "### Random Forest"
   ]
  },
  {
   "cell_type": "code",
   "execution_count": 63,
   "id": "25a58b8a",
   "metadata": {},
   "outputs": [
    {
     "name": "stdout",
     "output_type": "stream",
     "text": [
      "0.70694993569285\n"
     ]
    }
   ],
   "source": [
    "# train model\n",
    "rf.fit(X_train_scaled, y_train)\n",
    " \n",
    "# print prediction results\n",
    "predictions = rf.predict(X_test_scaled)\n",
    "print(accuracy_score(y_test, predictions))"
   ]
  },
  {
   "cell_type": "code",
   "execution_count": 64,
   "id": "dcca178c",
   "metadata": {},
   "outputs": [
    {
     "name": "stderr",
     "output_type": "stream",
     "text": [
      "/Users/damiafatihah/opt/anaconda3/lib/python3.9/site-packages/sklearn/model_selection/_search.py:285: UserWarning: The total space of parameters 4 is smaller than n_iter=20. Running 4 iterations. For exhaustive searches, use GridSearchCV.\n",
      "  warnings.warn(\n"
     ]
    },
    {
     "data": {
      "text/plain": [
       "RandomizedSearchCV(estimator=RandomForestClassifier(), n_iter=20,\n",
       "                   param_distributions={'class_weight': [{1: 1.5}, {1: 1.7}],\n",
       "                                        'max_depth': [100],\n",
       "                                        'min_samples_leaf': [3],\n",
       "                                        'min_samples_split': [5, 8],\n",
       "                                        'n_estimators': [200]},\n",
       "                   random_state=42, scoring='accuracy')"
      ]
     },
     "execution_count": 64,
     "metadata": {},
     "output_type": "execute_result"
    }
   ],
   "source": [
    "from sklearn.model_selection import RandomizedSearchCV\n",
    "# define parameter grid\n",
    "param_grid = {\n",
    "    'n_estimators' : [200],\n",
    "    'max_depth' : [100], \n",
    "    'min_samples_split' : [5, 8], \n",
    "    'min_samples_leaf' : [3],\n",
    "    'class_weight' : [{1 : 1.5}, {1 : 1.7}]\n",
    "}\n",
    "\n",
    "# create a RandomizedSearchCV object to search over the parameter grid\n",
    "randomized_search = RandomizedSearchCV(rf, param_grid, n_iter = 20, scoring = 'accuracy', random_state = 42)\n",
    "\n",
    "# fit the RandomisedSearchCV object to the training data\n",
    "randomized_search.fit(X_train_scaled, y_train)"
   ]
  },
  {
   "cell_type": "code",
   "execution_count": 65,
   "id": "564c41c6",
   "metadata": {},
   "outputs": [
    {
     "name": "stdout",
     "output_type": "stream",
     "text": [
      "{'n_estimators': 200, 'min_samples_split': 5, 'min_samples_leaf': 3, 'max_depth': 100, 'class_weight': {1: 1.5}}\n",
      "RandomForestClassifier(class_weight={1: 1.5}, max_depth=100, min_samples_leaf=3,\n",
      "                       min_samples_split=5, n_estimators=200)\n"
     ]
    }
   ],
   "source": [
    "# print best parameter after tuning\n",
    "print(randomized_search.best_params_)\n",
    " \n",
    "# print how our model looks after hyper-parameter tuning\n",
    "print(randomized_search.best_estimator_)"
   ]
  },
  {
   "cell_type": "code",
   "execution_count": 66,
   "id": "a474c618",
   "metadata": {},
   "outputs": [
    {
     "name": "stdout",
     "output_type": "stream",
     "text": [
      "Random Forest Classification Report\n",
      "              precision    recall  f1-score   support\n",
      "\n",
      "           0       0.75      0.69      0.72     10612\n",
      "           1       0.71      0.76      0.73     10381\n",
      "\n",
      "    accuracy                           0.73     20993\n",
      "   macro avg       0.73      0.73      0.72     20993\n",
      "weighted avg       0.73      0.73      0.72     20993\n",
      "\n"
     ]
    },
    {
     "data": {
      "image/png": "[encoded data removed]",
      "text/plain": [
       "<Figure size 640x480 with 2 Axes>"
      ]
     },
     "metadata": {},
     "output_type": "display_data"
    }
   ],
   "source": [
    "# see model results and add to results df\n",
    "get_results(randomized_search, 'Random Forest')"
   ]
  },
  {
   "cell_type": "code",
   "execution_count": 67,
   "id": "98f8907b",
   "metadata": {},
   "outputs": [],
   "source": [
    "rf_model = randomized_search"
   ]
  },
  {
   "cell_type": "code",
   "execution_count": 68,
   "id": "7f04535a",
   "metadata": {},
   "outputs": [
    {
     "data": {
      "text/plain": [
       "['rf_model.pkl']"
      ]
     },
     "execution_count": 68,
     "metadata": {},
     "output_type": "execute_result"
    }
   ],
   "source": [
    "joblib.dump(rf_model, 'rf_model.pkl')"
   ]
  },
  {
   "cell_type": "code",
   "execution_count": 69,
   "id": "514ffda9",
   "metadata": {},
   "outputs": [
    {
     "data": {
      "text/plain": [
       "['rf_scaler.pkl']"
      ]
     },
     "execution_count": 69,
     "metadata": {},
     "output_type": "execute_result"
    }
   ],
   "source": [
    "joblib.dump(ct, 'rf_scaler.pkl')"
   ]
  },
  {
   "cell_type": "markdown",
   "id": "3002d2c8",
   "metadata": {},
   "source": [
    "### Decision Tree"
   ]
  },
  {
   "cell_type": "code",
   "execution_count": 70,
   "id": "20953a7e",
   "metadata": {},
   "outputs": [
    {
     "name": "stdout",
     "output_type": "stream",
     "text": [
      "0.6373553089124946\n"
     ]
    }
   ],
   "source": [
    "# train model\n",
    "dt.fit(X_train_scaled, y_train)\n",
    " \n",
    "# print prediction results\n",
    "predictions = dt.predict(X_test_scaled)\n",
    "print(accuracy_score(y_test, predictions))"
   ]
  },
  {
   "cell_type": "code",
   "execution_count": 71,
   "id": "5b00bfbd",
   "metadata": {},
   "outputs": [
    {
     "data": {
      "text/plain": [
       "RandomizedSearchCV(estimator=DecisionTreeClassifier(),\n",
       "                   param_distributions={'class_weight': [{1: 1.4}, {1: 1.6}],\n",
       "                                        'max_depth': [3, 4, 5],\n",
       "                                        'min_samples_leaf': [5, 7],\n",
       "                                        'min_samples_split': [0.01, 0.05, 0.1]},\n",
       "                   random_state=42)"
      ]
     },
     "execution_count": 71,
     "metadata": {},
     "output_type": "execute_result"
    }
   ],
   "source": [
    "# define parameter grid\n",
    "param_grid = {\n",
    "    'max_depth' : [3, 4, 5], \n",
    "    'min_samples_split' : [0.01, 0.05, 0.1], \n",
    "    'min_samples_leaf' : [5, 7], \n",
    "    'class_weight' : [{1 : 1.4}, {1 : 1.6}]\n",
    "}\n",
    "\n",
    "# create a RandomizedSearchCV object to search over the parameter grid\n",
    "randomized_search = RandomizedSearchCV(dt, param_grid, random_state = 42)\n",
    "\n",
    "# fit the RandomisedSearchCV object to the training data\n",
    "randomized_search.fit(X_train_scaled, y_train)"
   ]
  },
  {
   "cell_type": "code",
   "execution_count": 72,
   "id": "9c6edc68",
   "metadata": {},
   "outputs": [
    {
     "name": "stdout",
     "output_type": "stream",
     "text": [
      "{'min_samples_split': 0.1, 'min_samples_leaf': 5, 'max_depth': 4, 'class_weight': {1: 1.6}}\n",
      "DecisionTreeClassifier(class_weight={1: 1.6}, max_depth=4, min_samples_leaf=5,\n",
      "                       min_samples_split=0.1)\n"
     ]
    }
   ],
   "source": [
    "# print best parameter after tuning\n",
    "print(randomized_search.best_params_)\n",
    " \n",
    "# print how our model looks after hyper-parameter tuning\n",
    "print(randomized_search.best_estimator_)"
   ]
  },
  {
   "cell_type": "code",
   "execution_count": 73,
   "id": "70286ea6",
   "metadata": {},
   "outputs": [
    {
     "name": "stdout",
     "output_type": "stream",
     "text": [
      "Decision Tree Classification Report\n",
      "              precision    recall  f1-score   support\n",
      "\n",
      "           0       0.73      0.72      0.73     10612\n",
      "           1       0.72      0.73      0.73     10381\n",
      "\n",
      "    accuracy                           0.73     20993\n",
      "   macro avg       0.73      0.73      0.73     20993\n",
      "weighted avg       0.73      0.73      0.73     20993\n",
      "\n"
     ]
    },
    {
     "data": {
      "image/png": "[encoded data removed]",
      "text/plain": [
       "<Figure size 640x480 with 2 Axes>"
      ]
     },
     "metadata": {},
     "output_type": "display_data"
    }
   ],
   "source": [
    "# see model results and add to results df\n",
    "get_results(randomized_search, 'Decision Tree')"
   ]
  },
  {
   "cell_type": "code",
   "execution_count": 74,
   "id": "5fc4965a",
   "metadata": {},
   "outputs": [],
   "source": [
    "dt_model = randomized_search"
   ]
  },
  {
   "cell_type": "code",
   "execution_count": 75,
   "id": "e7587d50",
   "metadata": {},
   "outputs": [
    {
     "data": {
      "text/plain": [
       "['dt_model.pkl']"
      ]
     },
     "execution_count": 75,
     "metadata": {},
     "output_type": "execute_result"
    }
   ],
   "source": [
    "joblib.dump(dt_model, 'dt_model.pkl')"
   ]
  },
  {
   "cell_type": "code",
   "execution_count": 76,
   "id": "ae418590",
   "metadata": {},
   "outputs": [
    {
     "data": {
      "text/plain": [
       "['dt_scaler.pkl']"
      ]
     },
     "execution_count": 76,
     "metadata": {},
     "output_type": "execute_result"
    }
   ],
   "source": [
    "joblib.dump(ct, 'dt_scaler.pkl')"
   ]
  },
  {
   "cell_type": "markdown",
   "id": "958f2535",
   "metadata": {},
   "source": [
    "### Naive Bayes"
   ]
  },
  {
   "cell_type": "code",
   "execution_count": 77,
   "id": "35910543",
   "metadata": {},
   "outputs": [
    {
     "name": "stdout",
     "output_type": "stream",
     "text": [
      "0.7074739198780546\n"
     ]
    }
   ],
   "source": [
    "# train model\n",
    "gnb.fit(X_train_scaled, y_train)\n",
    " \n",
    "# print prediction results\n",
    "predictions = gnb.predict(X_test_scaled)\n",
    "print(accuracy_score(y_test, predictions))"
   ]
  },
  {
   "cell_type": "code",
   "execution_count": 78,
   "id": "6e66272b",
   "metadata": {},
   "outputs": [
    {
     "name": "stdout",
     "output_type": "stream",
     "text": [
      "Naive Bayes Classification Report\n",
      "              precision    recall  f1-score   support\n",
      "\n",
      "           0       0.68      0.81      0.74     10612\n",
      "           1       0.76      0.60      0.67     10381\n",
      "\n",
      "    accuracy                           0.71     20993\n",
      "   macro avg       0.72      0.71      0.70     20993\n",
      "weighted avg       0.72      0.71      0.70     20993\n",
      "\n"
     ]
    },
    {
     "data": {
      "image/png": "[encoded data removed]",
      "text/plain": [
       "<Figure size 640x480 with 2 Axes>"
      ]
     },
     "metadata": {},
     "output_type": "display_data"
    }
   ],
   "source": [
    "# see model results and add to results df\n",
    "get_results(gnb, 'Naive Bayes')"
   ]
  },
  {
   "cell_type": "code",
   "execution_count": 79,
   "id": "e63e5d78",
   "metadata": {},
   "outputs": [],
   "source": [
    "gnb_model = gnb"
   ]
  },
  {
   "cell_type": "code",
   "execution_count": 80,
   "id": "20452b3c",
   "metadata": {},
   "outputs": [
    {
     "data": {
      "text/plain": [
       "['gnb_model.pkl']"
      ]
     },
     "execution_count": 80,
     "metadata": {},
     "output_type": "execute_result"
    }
   ],
   "source": [
    "joblib.dump(gnb_model, 'gnb_model.pkl')"
   ]
  },
  {
   "cell_type": "code",
   "execution_count": 81,
   "id": "f21a723b",
   "metadata": {},
   "outputs": [
    {
     "data": {
      "text/plain": [
       "['gnb_scaler.pkl']"
      ]
     },
     "execution_count": 81,
     "metadata": {},
     "output_type": "execute_result"
    }
   ],
   "source": [
    "joblib.dump(ct, 'gnb_scaler.pkl')"
   ]
  },
  {
   "cell_type": "markdown",
   "id": "f469f746",
   "metadata": {},
   "source": [
    "### K-Nearest Neighbours"
   ]
  },
  {
   "cell_type": "code",
   "execution_count": 82,
   "id": "d556e8ce",
   "metadata": {},
   "outputs": [
    {
     "name": "stdout",
     "output_type": "stream",
     "text": [
      "0.6954699185442766\n"
     ]
    }
   ],
   "source": [
    "# train model\n",
    "knn.fit(X_train_scaled, y_train)\n",
    " \n",
    "# print prediction results\n",
    "predictions = knn.predict(X_test_scaled)\n",
    "print(accuracy_score(y_test, predictions))"
   ]
  },
  {
   "cell_type": "code",
   "execution_count": 83,
   "id": "bf6b21fa",
   "metadata": {},
   "outputs": [
    {
     "data": {
      "text/plain": [
       "GridSearchCV(estimator=KNeighborsClassifier(),\n",
       "             param_grid={'n_neighbors': [23, 25, 27],\n",
       "                         'weights': ['uniform', 'distance']})"
      ]
     },
     "execution_count": 83,
     "metadata": {},
     "output_type": "execute_result"
    }
   ],
   "source": [
    "# define parameter grid\n",
    "param_grid = {\n",
    "    'n_neighbors' : [23, 25, 27], \n",
    "    'weights' : ['uniform', 'distance']\n",
    "}\n",
    "\n",
    "# create a GridSearchCV object to search over the parameter grid\n",
    "grid = GridSearchCV(knn, param_grid)\n",
    "\n",
    "# fit the GridSearchCV object to the training data\n",
    "grid.fit(X_train_scaled, y_train)"
   ]
  },
  {
   "cell_type": "code",
   "execution_count": 84,
   "id": "b94fc523",
   "metadata": {},
   "outputs": [
    {
     "name": "stdout",
     "output_type": "stream",
     "text": [
      "{'n_neighbors': 27, 'weights': 'uniform'}\n",
      "KNeighborsClassifier(n_neighbors=27)\n"
     ]
    }
   ],
   "source": [
    "# print best parameter after tuning\n",
    "print(grid.best_params_)\n",
    " \n",
    "# print how our model looks after hyper-parameter tuning\n",
    "print(grid.best_estimator_)"
   ]
  },
  {
   "cell_type": "code",
   "execution_count": 85,
   "id": "d954ee9e",
   "metadata": {},
   "outputs": [
    {
     "name": "stdout",
     "output_type": "stream",
     "text": [
      "K-Nearest Neighbours Classification Report\n",
      "              precision    recall  f1-score   support\n",
      "\n",
      "           0       0.72      0.76      0.74     10612\n",
      "           1       0.74      0.70      0.72     10381\n",
      "\n",
      "    accuracy                           0.73     20993\n",
      "   macro avg       0.73      0.73      0.73     20993\n",
      "weighted avg       0.73      0.73      0.73     20993\n",
      "\n"
     ]
    },
    {
     "data": {
      "image/png": "[encoded data removed]",
      "text/plain": [
       "<Figure size 640x480 with 2 Axes>"
      ]
     },
     "metadata": {},
     "output_type": "display_data"
    }
   ],
   "source": [
    "# see model results and add to results df\n",
    "get_results(grid, 'K-Nearest Neighbours')"
   ]
  },
  {
   "cell_type": "code",
   "execution_count": 86,
   "id": "26ece360",
   "metadata": {},
   "outputs": [],
   "source": [
    "knn_model = grid"
   ]
  },
  {
   "cell_type": "code",
   "execution_count": 87,
   "id": "257e27bd",
   "metadata": {},
   "outputs": [
    {
     "data": {
      "text/plain": [
       "['knn_model.pkl']"
      ]
     },
     "execution_count": 87,
     "metadata": {},
     "output_type": "execute_result"
    }
   ],
   "source": [
    "joblib.dump(knn_model, 'knn_model.pkl')"
   ]
  },
  {
   "cell_type": "code",
   "execution_count": 88,
   "id": "9ea8d891",
   "metadata": {},
   "outputs": [
    {
     "data": {
      "text/plain": [
       "['knn_scaler.pkl']"
      ]
     },
     "execution_count": 88,
     "metadata": {},
     "output_type": "execute_result"
    }
   ],
   "source": [
    "joblib.dump(ct, 'knn_scaler.pkl')"
   ]
  },
  {
   "cell_type": "markdown",
   "id": "574e5ed9",
   "metadata": {},
   "source": [
    "### XGBoost"
   ]
  },
  {
   "cell_type": "code",
   "execution_count": 89,
   "id": "53aca73f",
   "metadata": {},
   "outputs": [
    {
     "name": "stdout",
     "output_type": "stream",
     "text": [
      "0.7329586052493688\n"
     ]
    }
   ],
   "source": [
    "# train model\n",
    "xgb.fit(X_train_scaled, y_train)\n",
    " \n",
    "# print prediction results\n",
    "predictions = xgb.predict(X_test_scaled)\n",
    "print(accuracy_score(y_test, predictions))"
   ]
  },
  {
   "cell_type": "code",
   "execution_count": 90,
   "id": "330a2074",
   "metadata": {},
   "outputs": [
    {
     "name": "stderr",
     "output_type": "stream",
     "text": [
      "/Users/damiafatihah/opt/anaconda3/lib/python3.9/site-packages/sklearn/model_selection/_search.py:285: UserWarning: The total space of parameters 8 is smaller than n_iter=10. Running 8 iterations. For exhaustive searches, use GridSearchCV.\n",
      "  warnings.warn(\n"
     ]
    },
    {
     "data": {
      "text/plain": [
       "RandomizedSearchCV(estimator=XGBClassifier(base_score=None, booster=None,\n",
       "                                           callbacks=None,\n",
       "                                           colsample_bylevel=None,\n",
       "                                           colsample_bynode=None,\n",
       "                                           colsample_bytree=None,\n",
       "                                           early_stopping_rounds=None,\n",
       "                                           enable_categorical=False,\n",
       "                                           eval_metric=None, feature_types=None,\n",
       "                                           gamma=None, gpu_id=None,\n",
       "                                           grow_policy=None,\n",
       "                                           importance_type=None,\n",
       "                                           interaction_constraints=None,\n",
       "                                           learning_rate=None...\n",
       "                                           max_leaves=None,\n",
       "                                           min_child_weight=None, missing=nan,\n",
       "                                           monotone_constraints=None,\n",
       "                                           n_estimators=100, n_jobs=None,\n",
       "                                           num_parallel_tree=None,\n",
       "                                           predictor=None, random_state=None, ...),\n",
       "                   n_jobs=-1,\n",
       "                   param_distributions={'learning_rate': [0.08],\n",
       "                                        'max_depth': [4],\n",
       "                                        'min_child_weight': [2, 3],\n",
       "                                        'n_estimators': [125, 150],\n",
       "                                        'scale_pos_weight': [1.5, 1.7]},\n",
       "                   random_state=42, scoring='accuracy')"
      ]
     },
     "execution_count": 90,
     "metadata": {},
     "output_type": "execute_result"
    }
   ],
   "source": [
    "from sklearn.model_selection import RandomizedSearchCV\n",
    "# define parameter grid\n",
    "param_grid = {\n",
    "    'learning_rate': [0.08],\n",
    "    'max_depth': [4],\n",
    "    'min_child_weight': [2, 3],\n",
    "    'n_estimators' : [125, 150],\n",
    "    'scale_pos_weight' : [1.5, 1.7]\n",
    "}\n",
    "\n",
    "# create a RandomizedSearchCV object to search over the parameter grid\n",
    "randomized_search = RandomizedSearchCV(xgb, param_grid, n_jobs = -1, scoring = 'accuracy', random_state =  42)\n",
    "\n",
    "# fit the RandomizedSearchCV object to the training data\n",
    "randomized_search.fit(X_train_scaled, y_train)"
   ]
  },
  {
   "cell_type": "code",
   "execution_count": 91,
   "id": "ddf3fef7",
   "metadata": {},
   "outputs": [
    {
     "name": "stdout",
     "output_type": "stream",
     "text": [
      "{'scale_pos_weight': 1.5, 'n_estimators': 125, 'min_child_weight': 3, 'max_depth': 4, 'learning_rate': 0.08}\n",
      "XGBClassifier(base_score=None, booster=None, callbacks=None,\n",
      "              colsample_bylevel=None, colsample_bynode=None,\n",
      "              colsample_bytree=None, early_stopping_rounds=None,\n",
      "              enable_categorical=False, eval_metric=None, feature_types=None,\n",
      "              gamma=None, gpu_id=None, grow_policy=None, importance_type=None,\n",
      "              interaction_constraints=None, learning_rate=0.08, max_bin=None,\n",
      "              max_cat_threshold=None, max_cat_to_onehot=None,\n",
      "              max_delta_step=None, max_depth=4, max_leaves=None,\n",
      "              min_child_weight=3, missing=nan, monotone_constraints=None,\n",
      "              n_estimators=125, n_jobs=None, num_parallel_tree=None,\n",
      "              predictor=None, random_state=None, ...)\n"
     ]
    }
   ],
   "source": [
    "# print best parameter after tuning\n",
    "print(randomized_search.best_params_)\n",
    " \n",
    "# print how our model looks after hyper-parameter tuning\n",
    "print(randomized_search.best_estimator_)"
   ]
  },
  {
   "cell_type": "code",
   "execution_count": 92,
   "id": "9d14f2e7",
   "metadata": {},
   "outputs": [
    {
     "name": "stdout",
     "output_type": "stream",
     "text": [
      "XGBoost Classification Report\n",
      "              precision    recall  f1-score   support\n",
      "\n",
      "           0       0.76      0.67      0.71     10612\n",
      "           1       0.70      0.78      0.74     10381\n",
      "\n",
      "    accuracy                           0.73     20993\n",
      "   macro avg       0.73      0.73      0.72     20993\n",
      "weighted avg       0.73      0.73      0.72     20993\n",
      "\n"
     ]
    },
    {
     "data": {
      "image/png": "[encoded data removed]",
      "text/plain": [
       "<Figure size 640x480 with 2 Axes>"
      ]
     },
     "metadata": {},
     "output_type": "display_data"
    }
   ],
   "source": [
    "# see model results and add to results df\n",
    "get_results(randomized_search, 'XGBoost')"
   ]
  },
  {
   "cell_type": "code",
   "execution_count": 93,
   "id": "a5b33820",
   "metadata": {},
   "outputs": [],
   "source": [
    "xgb_model = randomized_search"
   ]
  },
  {
   "cell_type": "code",
   "execution_count": 94,
   "id": "46626203",
   "metadata": {},
   "outputs": [
    {
     "data": {
      "text/plain": [
       "['xgb_model.pkl']"
      ]
     },
     "execution_count": 94,
     "metadata": {},
     "output_type": "execute_result"
    }
   ],
   "source": [
    "joblib.dump(xgb_model, 'xgb_model.pkl')"
   ]
  },
  {
   "cell_type": "code",
   "execution_count": 95,
   "id": "30fcdb89",
   "metadata": {},
   "outputs": [
    {
     "data": {
      "text/plain": [
       "['xgb_scaler.pkl']"
      ]
     },
     "execution_count": 95,
     "metadata": {},
     "output_type": "execute_result"
    }
   ],
   "source": [
    "joblib.dump(ct, 'xgb_scaler.pkl')"
   ]
  },
  {
   "cell_type": "markdown",
   "id": "95fef2b5",
   "metadata": {},
   "source": [
    "### Results"
   ]
  },
  {
   "cell_type": "code",
   "execution_count": 96,
   "id": "ac3e9829",
   "metadata": {},
   "outputs": [
    {
     "name": "stderr",
     "output_type": "stream",
     "text": [
      "No handles with labels found to put in legend.\n"
     ]
    },
    {
     "data": {
      "text/plain": [
       "<matplotlib.legend.Legend at 0x7f9c346a3fd0>"
      ]
     },
     "execution_count": 96,
     "metadata": {},
     "output_type": "execute_result"
    },
    {
     "data": {
      "image/png": "[encoded data removed]",
      "text/plain": [
       "<Figure size 640x480 with 1 Axes>"
      ]
     },
     "metadata": {},
     "output_type": "display_data"
    }
   ],
   "source": [
    "results = results.sort_values('Accuracy', ascending = False)\n",
    "fig, ax = plt.subplots()\n",
    "sns.barplot(x = results['Accuracy'], y = results.index, palette = 'twilight')\n",
    "\n",
    "# add text labels to show the percentage of accuracy for each model\n",
    "for i in ax.containers:\n",
    "    ax.bar_label(i, label_type='edge', labels=[f'{val:.2f}%' for val in i.datavalues])\n",
    "    \n",
    "plt.title('Accuracy of All Models')\n",
    "plt.ylabel('Model')\n",
    "plt.xlabel('Accuracy in %')\n",
    "ax.legend(loc = 'lower right')"
   ]
  },
  {
   "cell_type": "code",
   "execution_count": 97,
   "id": "4e2e5950",
   "metadata": {},
   "outputs": [
    {
     "data": {
      "text/html": [
       "<div>\n",
       "<style scoped>\n",
       "    .dataframe tbody tr th:only-of-type {\n",
       "        vertical-align: middle;\n",
       "    }\n",
       "\n",
       "    .dataframe tbody tr th {\n",
       "        vertical-align: top;\n",
       "    }\n",
       "\n",
       "    .dataframe thead th {\n",
       "        text-align: right;\n",
       "    }\n",
       "</style>\n",
       "<table border=\"1\" class=\"dataframe\">\n",
       "  <thead>\n",
       "    <tr style=\"text-align: right;\">\n",
       "      <th></th>\n",
       "      <th>Accuracy</th>\n",
       "      <th>Precision</th>\n",
       "      <th>Recall</th>\n",
       "      <th>F1-score</th>\n",
       "    </tr>\n",
       "  </thead>\n",
       "  <tbody>\n",
       "    <tr>\n",
       "      <th>Support Vector Machine</th>\n",
       "      <td>73.55</td>\n",
       "      <td>0.76</td>\n",
       "      <td>0.69</td>\n",
       "      <td>0.72</td>\n",
       "    </tr>\n",
       "    <tr>\n",
       "      <th>Logistic Regression</th>\n",
       "      <td>72.96</td>\n",
       "      <td>0.75</td>\n",
       "      <td>0.68</td>\n",
       "      <td>0.71</td>\n",
       "    </tr>\n",
       "    <tr>\n",
       "      <th>K-Nearest Neighbours</th>\n",
       "      <td>72.94</td>\n",
       "      <td>0.74</td>\n",
       "      <td>0.70</td>\n",
       "      <td>0.72</td>\n",
       "    </tr>\n",
       "    <tr>\n",
       "      <th>Decision Tree</th>\n",
       "      <td>72.71</td>\n",
       "      <td>0.72</td>\n",
       "      <td>0.73</td>\n",
       "      <td>0.73</td>\n",
       "    </tr>\n",
       "    <tr>\n",
       "      <th>XGBoost</th>\n",
       "      <td>72.52</td>\n",
       "      <td>0.70</td>\n",
       "      <td>0.78</td>\n",
       "      <td>0.74</td>\n",
       "    </tr>\n",
       "    <tr>\n",
       "      <th>Random Forest</th>\n",
       "      <td>72.51</td>\n",
       "      <td>0.71</td>\n",
       "      <td>0.76</td>\n",
       "      <td>0.73</td>\n",
       "    </tr>\n",
       "    <tr>\n",
       "      <th>Naive Bayes</th>\n",
       "      <td>70.75</td>\n",
       "      <td>0.76</td>\n",
       "      <td>0.60</td>\n",
       "      <td>0.67</td>\n",
       "    </tr>\n",
       "  </tbody>\n",
       "</table>\n",
       "</div>"
      ],
      "text/plain": [
       "                        Accuracy  Precision  Recall  F1-score\n",
       "Support Vector Machine     73.55       0.76    0.69      0.72\n",
       "Logistic Regression        72.96       0.75    0.68      0.71\n",
       "K-Nearest Neighbours       72.94       0.74    0.70      0.72\n",
       "Decision Tree              72.71       0.72    0.73      0.73\n",
       "XGBoost                    72.52       0.70    0.78      0.74\n",
       "Random Forest              72.51       0.71    0.76      0.73\n",
       "Naive Bayes                70.75       0.76    0.60      0.67"
      ]
     },
     "execution_count": 97,
     "metadata": {},
     "output_type": "execute_result"
    }
   ],
   "source": [
    "results"
   ]
  },
  {
   "cell_type": "code",
   "execution_count": 98,
   "id": "d9a1bcdb",
   "metadata": {},
   "outputs": [
    {
     "data": {
      "text/html": [
       "<div>\n",
       "<style scoped>\n",
       "    .dataframe tbody tr th:only-of-type {\n",
       "        vertical-align: middle;\n",
       "    }\n",
       "\n",
       "    .dataframe tbody tr th {\n",
       "        vertical-align: top;\n",
       "    }\n",
       "\n",
       "    .dataframe thead th {\n",
       "        text-align: right;\n",
       "    }\n",
       "</style>\n",
       "<table border=\"1\" class=\"dataframe\">\n",
       "  <thead>\n",
       "    <tr style=\"text-align: right;\">\n",
       "      <th></th>\n",
       "      <th>True Positive</th>\n",
       "      <th>False Positive</th>\n",
       "      <th>True Negative</th>\n",
       "      <th>False Negative</th>\n",
       "    </tr>\n",
       "  </thead>\n",
       "  <tbody>\n",
       "    <tr>\n",
       "      <th>Support Vector Machine</th>\n",
       "      <td>7111</td>\n",
       "      <td>2282</td>\n",
       "      <td>8330</td>\n",
       "      <td>3270</td>\n",
       "    </tr>\n",
       "    <tr>\n",
       "      <th>Logistic Regression</th>\n",
       "      <td>7066</td>\n",
       "      <td>2361</td>\n",
       "      <td>8251</td>\n",
       "      <td>3315</td>\n",
       "    </tr>\n",
       "    <tr>\n",
       "      <th>Random Forest</th>\n",
       "      <td>7885</td>\n",
       "      <td>3275</td>\n",
       "      <td>7337</td>\n",
       "      <td>2496</td>\n",
       "    </tr>\n",
       "    <tr>\n",
       "      <th>Decision Tree</th>\n",
       "      <td>7577</td>\n",
       "      <td>2925</td>\n",
       "      <td>7687</td>\n",
       "      <td>2804</td>\n",
       "    </tr>\n",
       "    <tr>\n",
       "      <th>Naive Bayes</th>\n",
       "      <td>6247</td>\n",
       "      <td>2007</td>\n",
       "      <td>8605</td>\n",
       "      <td>4134</td>\n",
       "    </tr>\n",
       "    <tr>\n",
       "      <th>K-Nearest Neighbours</th>\n",
       "      <td>7284</td>\n",
       "      <td>2583</td>\n",
       "      <td>8029</td>\n",
       "      <td>3097</td>\n",
       "    </tr>\n",
       "    <tr>\n",
       "      <th>XGBoost</th>\n",
       "      <td>8097</td>\n",
       "      <td>3484</td>\n",
       "      <td>7128</td>\n",
       "      <td>2284</td>\n",
       "    </tr>\n",
       "  </tbody>\n",
       "</table>\n",
       "</div>"
      ],
      "text/plain": [
       "                        True Positive  False Positive  True Negative  \\\n",
       "Support Vector Machine           7111            2282           8330   \n",
       "Logistic Regression              7066            2361           8251   \n",
       "Random Forest                    7885            3275           7337   \n",
       "Decision Tree                    7577            2925           7687   \n",
       "Naive Bayes                      6247            2007           8605   \n",
       "K-Nearest Neighbours             7284            2583           8029   \n",
       "XGBoost                          8097            3484           7128   \n",
       "\n",
       "                        False Negative  \n",
       "Support Vector Machine            3270  \n",
       "Logistic Regression               3315  \n",
       "Random Forest                     2496  \n",
       "Decision Tree                     2804  \n",
       "Naive Bayes                       4134  \n",
       "K-Nearest Neighbours              3097  \n",
       "XGBoost                           2284  "
      ]
     },
     "execution_count": 98,
     "metadata": {},
     "output_type": "execute_result"
    }
   ],
   "source": [
    "confusionMatrix"
   ]
  },
  {
   "cell_type": "code",
   "execution_count": 100,
   "id": "0ba170e5",
   "metadata": {},
   "outputs": [
    {
     "data": {
      "image/png": "[encoded data removed]",
      "text/plain": [
       "<Figure size 640x480 with 1 Axes>"
      ]
     },
     "metadata": {},
     "output_type": "display_data"
    }
   ],
   "source": [
    "# ROC curve of all models\n",
    "fig = plot_roc_curve(svm_model, X_test_scaled, y_test, name = 'SVM')\n",
    "plot_roc_curve(xgb_model, X_test_scaled, y_test, ax = fig.ax_, name = 'XGBoost')\n",
    "plot_roc_curve(rf_model, X_test_scaled, y_test, ax = fig.ax_, name = 'Random Forest')\n",
    "plot_roc_curve(lr_model, X_test_scaled, y_test, ax = fig.ax_, name = 'Logistic Regression')\n",
    "plot_roc_curve(knn_model, X_test_scaled, y_test, ax = fig.ax_, name = 'K-Nearest Neighbours')\n",
    "plot_roc_curve(dt_model, X_test_scaled, y_test, ax = fig.ax_, name = 'Decision Tree')\n",
    "plot_roc_curve(gnb_model, X_test_scaled, y_test, ax = fig.ax_, name = 'Naive Bayes')\n",
    "\n",
    "plt.title('ROC Curve Comparison')\n",
    "plt.xlabel('False Positive Rate')\n",
    "plt.ylabel('True Positive Rate')\n",
    "plt.show()"
   ]
  }
 ],
 "metadata": {
  "kernelspec": {
   "display_name": "Python 3 (ipykernel)",
   "language": "python",
   "name": "python3"
  },
  "language_info": {
   "codemirror_mode": {
    "name": "ipython",
    "version": 3
   },
   "file_extension": ".py",
   "mimetype": "text/x-python",
   "name": "python",
   "nbconvert_exporter": "python",
   "pygments_lexer": "ipython3",
   "version": "3.9.7"
  }
 },
 "nbformat": 4,
 "nbformat_minor": 5
}
