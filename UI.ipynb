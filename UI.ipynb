{
 "cells": [
  {
   "cell_type": "code",
   "execution_count": 1,
   "id": "20579372",
   "metadata": {
    "scrolled": true
   },
   "outputs": [],
   "source": [
    "import gradio as gr\n",
    "import pandas as pd\n",
    "import numpy as np\n",
    "import joblib"
   ]
  },
  {
   "cell_type": "code",
   "execution_count": 2,
   "id": "311f4cce",
   "metadata": {},
   "outputs": [],
   "source": [
    "def computeXy(model, scaler, ohe,\n",
    "                         age, systolic_pressure, diastolic_pressure, BMI, gender, smoke, alcohol_intake, physical_activtiy, glucose, cholesterol):\n",
    "    X = [age, gender, systolic_pressure, diastolic_pressure, cholesterol, glucose, smoke, alcohol_intake, physical_activtiy, BMI]\n",
    "    X = pd.DataFrame(X).T\n",
    "    X.columns = ['age', 'gender', 'systolic', 'diastolic', 'cholesterol', 'glucose', 'smoke', 'alcohol_intake', 'physical_activity', 'BMI']\n",
    "    X = scaler.transform(X)\n",
    "    y = model.predict_proba(X)[0]\n",
    "    print(X, y)\n",
    "    \n",
    "    return X, y"
   ]
  },
  {
   "cell_type": "code",
   "execution_count": 3,
   "id": "f212239b",
   "metadata": {},
   "outputs": [],
   "source": [
    "def choose_model(model_choice, age, systolic_pressure, diastolic_pressure, BMI, gender, smoke, alcohol_intake, physical_activtiy, glucose, cholesterol):\n",
    "    if (model_choice == 'Random Forest'):\n",
    "        model = joblib.load('rf_model.pkl')\n",
    "        scaler = joblib.load('rf_scaler.pkl')\n",
    "        X, y = computeXy(model, scaler, False,\n",
    "                         age, systolic_pressure, diastolic_pressure, BMI, gender, smoke, alcohol_intake, physical_activtiy, glucose, cholesterol)\n",
    "        accuracy = 0.7251\n",
    "        \n",
    "    elif (model_choice == 'XGBoost'):\n",
    "        model = joblib.load('xgb_model.pkl')\n",
    "        scaler = joblib.load('xgb_scaler.pkl')\n",
    "        X, y = computeXy(model, scaler, True,\n",
    "                         age, systolic_pressure, diastolic_pressure, BMI, gender, smoke, alcohol_intake, physical_activtiy, glucose, cholesterol)\n",
    "        accuracy = 0.7252\n",
    "\n",
    "    elif (model_choice == 'Naive Bayes'):\n",
    "        model = joblib.load('gnb_model.pkl')\n",
    "        scaler = joblib.load('gnb_scaler.pkl')\n",
    "        X, y = computeXy(model, scaler, False,\n",
    "                         age, systolic_pressure, diastolic_pressure, BMI, gender, smoke, alcohol_intake, physical_activtiy, glucose, cholesterol)\n",
    "        accuracy = 0.7075\n",
    "    \n",
    "    elif (model_choice == 'K-Nearest Neighbours'):\n",
    "        model = joblib.load('knn_model.pkl')\n",
    "        scaler = joblib.load('knn_scaler.pkl')\n",
    "        X, y = computeXy(model, scaler, False,\n",
    "                         age, systolic_pressure, diastolic_pressure, BMI, gender, smoke, alcohol_intake, physical_activtiy, glucose, cholesterol)\n",
    "        accuracy = 0.7294\n",
    "    \n",
    "    elif (model_choice == 'Logistic Regression'):\n",
    "        model = joblib.load('lr_model.pkl')\n",
    "        scaler = joblib.load('lr_scaler.pkl')\n",
    "        X, y = computeXy(model, scaler, False,\n",
    "                         age, systolic_pressure, diastolic_pressure, BMI, gender, smoke, alcohol_intake, physical_activtiy, glucose, cholesterol)\n",
    "        accuracy = 0.7296\n",
    "    \n",
    "    elif (model_choice == 'Support Vector Machine'):\n",
    "        model = joblib.load('svm_model.pkl')\n",
    "        scaler = joblib.load('svm_scaler.pkl')\n",
    "        X, y = computeXy(model, scaler, False,\n",
    "                         age, systolic_pressure, diastolic_pressure, BMI, gender, smoke, alcohol_intake, physical_activtiy, glucose, cholesterol)\n",
    "        accuracy = 0.7355\n",
    "        \n",
    "    elif (model_choice == 'Decision Tree'):\n",
    "        model = joblib.load('dt_model.pkl')\n",
    "        scaler = joblib.load('dt_scaler.pkl')\n",
    "        X, y = computeXy(model, scaler, False,\n",
    "                         age, systolic_pressure, diastolic_pressure, BMI, gender, smoke, alcohol_intake, physical_activtiy, glucose, cholesterol)\n",
    "        accuracy = 0.7271\n",
    "    \n",
    "    print(X, y)\n",
    "    return X, y.tolist(), accuracy"
   ]
  },
  {
   "cell_type": "code",
   "execution_count": 4,
   "id": "daee8782",
   "metadata": {},
   "outputs": [],
   "source": [
    "def fn(model, age, systolic_pressure, diastolic_pressure, BMI, gender, smoke, alcohol_intake, physical_activtiy, glucose, cholesterol):\n",
    "    \n",
    "    X, y, accuracy = choose_model(model, age, systolic_pressure, diastolic_pressure, BMI, gender, smoke, alcohol_intake, physical_activtiy, glucose, cholesterol)\n",
    "    print(X, y)\n",
    "    \n",
    "    y_classes = [\"No heart disease\", \"You have high risk of having heart disease!\"]\n",
    "    dictionary = dict(zip(y_classes, y))\n",
    "    \n",
    "    y = np.argmax(y)\n",
    "    if (y == 0):\n",
    "        output = \"No heart disease\"\n",
    "    if (y == 1):\n",
    "        output = \"You have high risk of having heart disease!\"\n",
    "    return accuracy, output, dictionary\n",
    "\n",
    "app = gr.Interface(fn = fn,\n",
    "                   inputs = [gr.Dropdown(label = \"Model\", choices = ['Random Forest', 'Naive Bayes',\n",
    "                                                                 'K-Nearest Neighbours', 'Logistic Regression', 'Support Vector Machine', 'XGBoost', 'Decision Tree'], type = 'value'),\n",
    "                           \n",
    "                           gr.Number(label = \"Age\"),\n",
    "                           gr.Number(label = \"What is your systolic pressure?\"),\n",
    "                           gr.Number(label = \"What is your diastolic pressure?\"),\n",
    "                           gr.Number(label = \"What is your BMI?\"),\n",
    "                           gr.Radio(label = \"Gender\", choices = ['Female', 'Male'], type = 'index'),\n",
    "                           gr.Radio(label = \"Do you smoke?\", choices = ['No', 'Yes'], type = 'index'),\n",
    "                           \n",
    "                           gr.Radio(label = \"Do you take alcohol?\", choices = ['No', 'Yes'], type = 'index'),\n",
    "                           gr.Radio(label = \"Are you engaged in any form of physical activity?\", choices = ['No', 'Yes'], type = 'index'),\n",
    "                           gr.Radio(label = \"What is your glucose level (mmo/L)?\", choices = ['Normal (4 - 5.6)', 'Above normal (5.7 - 6.4)', 'Well above normal (> 6.4)'], type = 'index'),\n",
    "                           gr.Radio(label = \"What is your cholesterol level (mg/dl)?\", choices = ['Normal (< 200)', 'Above normal (200 - 239)', 'Well above normal (> 240)'], type = 'index'),\n",
    "                   ],\n",
    "                   outputs = [gr.Textbox(label = \"Average Classification Accuracy\"),\n",
    "                            gr.Textbox(label = \"Heart Disease Prediction\"),\n",
    "                            gr.Label(label = \"Classification Probabilities\")])"
   ]
  },
  {
   "cell_type": "code",
   "execution_count": 5,
   "id": "46135e2d",
   "metadata": {},
   "outputs": [
    {
     "name": "stdout",
     "output_type": "stream",
     "text": [
      "Running on local URL:  http://127.0.0.1:7860\n",
      "Running on public URL: https://3adf3ef4829dde136b.gradio.live\n",
      "\n",
      "This share link expires in 72 hours. For free permanent hosting and GPU upgrades (NEW!), check out Spaces: https://huggingface.co/spaces\n"
     ]
    },
    {
     "data": {
      "text/html": [
       "<div><iframe src=\"https://3adf3ef4829dde136b.gradio.live\" width=\"100%\" height=\"500\" allow=\"autoplay; camera; microphone; clipboard-read; clipboard-write;\" frameborder=\"0\" allowfullscreen></iframe></div>"
      ],
      "text/plain": [
       "<IPython.core.display.HTML object>"
      ]
     },
     "metadata": {},
     "output_type": "display_data"
    },
    {
     "data": {
      "text/plain": []
     },
     "execution_count": 5,
     "metadata": {},
     "output_type": "execute_result"
    }
   ],
   "source": [
    "app.launch(share=True)"
   ]
  },
  {
   "cell_type": "code",
   "execution_count": null,
   "id": "4d77e3d9",
   "metadata": {},
   "outputs": [],
   "source": []
  }
 ],
 "metadata": {
  "kernelspec": {
   "display_name": "Python 3 (ipykernel)",
   "language": "python",
   "name": "python3"
  },
  "language_info": {
   "codemirror_mode": {
    "name": "ipython",
    "version": 3
   },
   "file_extension": ".py",
   "mimetype": "text/x-python",
   "name": "python",
   "nbconvert_exporter": "python",
   "pygments_lexer": "ipython3",
   "version": "3.9.7"
  }
 },
 "nbformat": 4,
 "nbformat_minor": 5
}
